{
  "cells": [
    {
      "cell_type": "markdown",
      "metadata": {
        "id": "view-in-github",
        "colab_type": "text"
      },
      "source": [
        "<a href=\"https://colab.research.google.com/github/GaohuiXu/llm-cookbook/blob/main/content/%E5%BF%85%E4%BF%AE%E4%B8%80-Prompt%20Engineering%20For%20Developers/2.%20%E6%8F%90%E7%A4%BA%E5%8E%9F%E5%88%99%20Guidelines.ipynb\" target=\"_parent\"><img src=\"https://colab.research.google.com/assets/colab-badge.svg\" alt=\"Open In Colab\"/></a>"
      ]
    },
    {
      "cell_type": "markdown",
      "metadata": {
        "id": "rUjNs3ZkO2yC"
      },
      "source": [
        "# 第二章 编写 Prompt 的原则\n",
        "\n",
        "  本章的主要内容为编写 Prompt 的原则，在本章中，我们将给出两个编写 Prompt 的原则与一些相关的策略，您可以练习编写高效的 Prompt，从而便捷而有效地使用 LLM。"
      ]
    },
    {
      "cell_type": "markdown",
      "metadata": {
        "id": "PnxnX7b0O2yD"
      },
      "source": [
        "<div class=\"toc\">\n",
        "    <ul class=\"toc-item\">\n",
        "        <li><span><a href=\"#一环境配置\" data-toc-modified-id=\"一、环境配置\">一、环境配置</a></span></li>\n",
        "        <li>\n",
        "            <span><a href=\"#二两个基本原则\" data-toc-modified-id=\"二、两个基本原则\">二、两个基本原则</a></span>\n",
        "            <ul class=\"toc-item\">\n",
        "                <li><span><a href=\"#21-原则一编写清晰具体的指令\" data-toc-modified-id=\"2.1 原则一：编写清晰、具体的指令\">2.1 原则一：编写清晰、具体的指令</a></span></li>\n",
        "                <li><span><a href=\"#22-给模型时间去思考\" data-toc-modified-id=\"2.2 原则二：给模型时间去思考\">2.2 原则二：给模型时间去思考</a></span></li>\n",
        "            </ul>\n",
        "        </li>\n",
        "        <li><span><a href=\"#三局限性\" data-toc-modified-id=\"三、局限性\">三、局限性</a></span>\n",
        "        </li>\n",
        "    </ul>\n",
        "</div>"
      ]
    },
    {
      "cell_type": "markdown",
      "metadata": {
        "id": "HDxy8zlzO2yE"
      },
      "source": [
        "## 一、环境配置"
      ]
    },
    {
      "cell_type": "markdown",
      "metadata": {
        "id": "nTPgRkz5O2yE"
      },
      "source": [
        "本教程使用 OpenAI 所开放的 ChatGPT API，因此您需要首先拥有一个 ChatGPT 的 API_KEY（也可以直接访问官方网址在线测试），然后需要安装 OpenAI 的第三方库。为了兼顾简便与兼容性，本教程将介绍在 ```Python 3``` 环境中基于 ```openai.api_key``` 方法的配置。另有基于环境变量的配置方法，详情请参考 [OpenAI 官方文档](https://help.openai.com/en/articles/5112595-best-practices-for-api-key-safety)。"
      ]
    },
    {
      "cell_type": "markdown",
      "metadata": {
        "id": "BucNWv_dO2yE"
      },
      "source": [
        "首先需要安装 OpenAI 库：\n",
        "```bash\n",
        "pip install openai\n",
        "```"
      ]
    },
    {
      "cell_type": "code",
      "source": [
        "!pip install openai==0.28"
      ],
      "metadata": {
        "id": "CZzEOyLzPJA5",
        "outputId": "103bb3a5-3779-41e0-d42c-ed4ec3e5fe9c",
        "colab": {
          "base_uri": "https://localhost:8080/"
        }
      },
      "execution_count": 1,
      "outputs": [
        {
          "output_type": "stream",
          "name": "stdout",
          "text": [
            "Requirement already satisfied: openai==0.28 in /usr/local/lib/python3.11/dist-packages (0.28.0)\n",
            "Requirement already satisfied: requests>=2.20 in /usr/local/lib/python3.11/dist-packages (from openai==0.28) (2.32.3)\n",
            "Requirement already satisfied: tqdm in /usr/local/lib/python3.11/dist-packages (from openai==0.28) (4.67.1)\n",
            "Requirement already satisfied: aiohttp in /usr/local/lib/python3.11/dist-packages (from openai==0.28) (3.11.15)\n",
            "Requirement already satisfied: charset-normalizer<4,>=2 in /usr/local/lib/python3.11/dist-packages (from requests>=2.20->openai==0.28) (3.4.1)\n",
            "Requirement already satisfied: idna<4,>=2.5 in /usr/local/lib/python3.11/dist-packages (from requests>=2.20->openai==0.28) (3.10)\n",
            "Requirement already satisfied: urllib3<3,>=1.21.1 in /usr/local/lib/python3.11/dist-packages (from requests>=2.20->openai==0.28) (2.3.0)\n",
            "Requirement already satisfied: certifi>=2017.4.17 in /usr/local/lib/python3.11/dist-packages (from requests>=2.20->openai==0.28) (2025.1.31)\n",
            "Requirement already satisfied: aiohappyeyeballs>=2.3.0 in /usr/local/lib/python3.11/dist-packages (from aiohttp->openai==0.28) (2.6.1)\n",
            "Requirement already satisfied: aiosignal>=1.1.2 in /usr/local/lib/python3.11/dist-packages (from aiohttp->openai==0.28) (1.3.2)\n",
            "Requirement already satisfied: attrs>=17.3.0 in /usr/local/lib/python3.11/dist-packages (from aiohttp->openai==0.28) (25.3.0)\n",
            "Requirement already satisfied: frozenlist>=1.1.1 in /usr/local/lib/python3.11/dist-packages (from aiohttp->openai==0.28) (1.6.0)\n",
            "Requirement already satisfied: multidict<7.0,>=4.5 in /usr/local/lib/python3.11/dist-packages (from aiohttp->openai==0.28) (6.4.3)\n",
            "Requirement already satisfied: propcache>=0.2.0 in /usr/local/lib/python3.11/dist-packages (from aiohttp->openai==0.28) (0.3.1)\n",
            "Requirement already satisfied: yarl<2.0,>=1.17.0 in /usr/local/lib/python3.11/dist-packages (from aiohttp->openai==0.28) (1.20.0)\n"
          ]
        }
      ]
    },
    {
      "cell_type": "code",
      "execution_count": 18,
      "metadata": {
        "id": "Zi7bJeR5O2yF"
      },
      "outputs": [],
      "source": [
        "import openai\n",
        "# 导入第三方库\n",
        "\n",
        "openai.api_key  = \"sk-de071700bc094713b4567d255658606f\"\n",
        "openai.api_base = \"https://api.deepseek.com/v1\"\n",
        "# 以下为基于环境变量的配置方法示例，这样更加安全。仅供参考，后续将不再涉及。\n",
        "# import openai\n",
        "# import os\n",
        "# OPENAI_API_KEY = os.environ.get(\"OPENAI_API_KEY\")\n",
        "# openai.api_key = OPENAI_API_KEY\n"
      ]
    },
    {
      "cell_type": "markdown",
      "metadata": {
        "id": "wWkfAmZDO2yF"
      },
      "source": [
        "整个课程将以 gpt-3.5-turbo 模型为例。我们将在后续课程中深入探究 OpenAI 提供的 [Chat Completions API](https://platform.openai.com/docs/guides/gpt/chat-completions-api) 的使用方法，在此处，我们先将它封装成一个函数，您无需知道其内部机理，仅需知道调用该函数，以 Prompt 为输入参数，其将会输出对应的 Completion （回答结果）即可。"
      ]
    },
    {
      "cell_type": "code",
      "execution_count": 24,
      "metadata": {
        "id": "lYRSzflNO2yF"
      },
      "outputs": [],
      "source": [
        "# 一个封装 OpenAI 接口的函数，参数为 Prompt，返回对应结果\n",
        "def get_completion(prompt, model=\"gpt-3.5-turbo\"):\n",
        "    '''\n",
        "    prompt: 对应的提示词\n",
        "    model: 调用的模型，默认为 gpt-3.5-turbo(ChatGPT)，有内测资格的用户可以选择 gpt-4\n",
        "    '''\n",
        "    messages = [{\"role\": \"user\", \"content\": prompt}]\n",
        "    response = openai.ChatCompletion.create(\n",
        "        model='deepseek-reasoner',\n",
        "        messages=messages,\n",
        "        temperature=0, # 模型输出的温度系数，控制输出的随机程度\n",
        "    )\n",
        "    # 调用 OpenAI 的 ChatCompletion 接口\n",
        "    return response.choices[0].message[\"content\"]\n"
      ]
    },
    {
      "cell_type": "markdown",
      "metadata": {
        "id": "345JqDSEO2yF"
      },
      "source": [
        "## 二、两个基本原则"
      ]
    },
    {
      "cell_type": "markdown",
      "metadata": {
        "id": "IPar17H-O2yG"
      },
      "source": [
        "### 2.1 原则一：编写清晰、具体的指令\n",
        "\n",
        "您应该通过提供尽可能清晰和具体的指令来表达您希望模型执行的操作。这将引导模型给出正确的输出，并降低您得到无关或不正确响应的可能性。清晰的指令不意味着必须简短，在许多情况下，更长的 Prompt 实际上更清晰，且提供了更多上下文，也就可能产生更详细更相关的输出。"
      ]
    },
    {
      "cell_type": "markdown",
      "metadata": {
        "id": "hb289CP1O2yG"
      },
      "source": [
        "**2.1.1 使用分隔符清晰地表示输入的不同部分**\n",
        "\n",
        "分隔符可以是：```，\"\"，<>，:，\\<tag> \\</tag>等。\n",
        "\n",
        "您可以使用任何明显的标点符号将特定的文本部分与 Prompt 的其余部分分开。标记的形式不限，只需要让模型明确知道这是一个单独部分。使用分隔符可以有效避免提示词注入( Prompt injection )。提示词注入是指如果允许用户将某些输入添加到（开发者预定义的） Prompt 中，则所提供的指令可能会与开发者想要执行的操作相冲突，从而使 LLM 遵循用户输入的指令，而非执行开发者预期的操作。即，输入里面可能包含其他指令，会覆盖掉您的指令。对此，使用分隔符是一个不错的策略。\n",
        "\n",
        "在以下的例子中，我们给出一段话并要求 GPT 进行总结，在该示例中我们使用 ``` 来作为分隔符。\n"
      ]
    },
    {
      "cell_type": "code",
      "execution_count": 21,
      "metadata": {
        "id": "8rRX11CIO2yG",
        "outputId": "5e81e837-7f9e-42fc-c860-cb2b103f3648",
        "colab": {
          "base_uri": "https://localhost:8080/"
        }
      },
      "outputs": [
        {
          "output_type": "stream",
          "name": "stdout",
          "text": [
            "To achieve the desired output from a model, provide clear, specific, and detailed instructions, as longer prompts often offer better clarity and context than shorter ones, reducing irrelevant or incorrect responses.\n"
          ]
        }
      ],
      "source": [
        "# 中文版见下一个 cell\n",
        "text = f\"\"\"\n",
        "You should express what you want a model to do by \\\n",
        "providing instructions that are as clear and \\\n",
        "specific as you can possibly make them. \\\n",
        "This will guide the model towards the desired output, \\\n",
        "and reduce the chances of receiving irrelevant \\\n",
        "or incorrect responses. Don't confuse writing a \\\n",
        "clear prompt with writing a short prompt. \\\n",
        "In many cases, longer prompts provide more clarity \\\n",
        "and context for the model, which can lead to \\\n",
        "more detailed and relevant outputs.\n",
        "\"\"\"\n",
        "prompt = f\"\"\"\n",
        "Summarize the text delimited by triple backticks \\\n",
        "into a single sentence.\n",
        "```{text}```\n",
        "\"\"\"\n",
        "response = get_completion(prompt)\n",
        "print(response)"
      ]
    },
    {
      "cell_type": "markdown",
      "metadata": {
        "id": "aT6YhS1_O2yG"
      },
      "source": [
        "Clear and specific instructions should be provided to guide a model towards the desired output, and longer prompts can provide more clarity and context for the model, leading to more detailed and relevant outputs."
      ]
    },
    {
      "cell_type": "code",
      "execution_count": 22,
      "metadata": {
        "id": "N_E_WuYYO2yG",
        "outputId": "dfb921e0-19e1-4553-f819-f8a37f89201a",
        "colab": {
          "base_uri": "https://localhost:8080/"
        }
      },
      "outputs": [
        {
          "output_type": "stream",
          "name": "stdout",
          "text": [
            "清晰的提示词应具体详细，避免简短模糊，以确保模型输出准确相关。\n"
          ]
        }
      ],
      "source": [
        "text = f\"\"\"\n",
        "您应该提供尽可能清晰、具体的指示，以表达您希望模型执行的任务。\\\n",
        "这将引导模型朝向所需的输出，并降低收到无关或不正确响应的可能性。\\\n",
        "不要将写清晰的提示词与写简短的提示词混淆。\\\n",
        "在许多情况下，更长的提示词可以为模型提供更多的清晰度和上下文信息，从而导致更详细和相关的输出。\n",
        "\"\"\"\n",
        "# 需要总结的文本内容\n",
        "prompt = f\"\"\"\n",
        "把用三个反引号括起来的文本总结成一句话。\n",
        "```{text}```\n",
        "\"\"\"\n",
        "# 指令内容，使用 ``` 来分隔指令和待总结的内容\n",
        "response = get_completion(prompt)\n",
        "print(response)"
      ]
    },
    {
      "cell_type": "markdown",
      "metadata": {
        "id": "M-kIKSZ6O2yG"
      },
      "source": [
        "\n",
        "提供清晰具体的指示，避免无关或不正确响应，不要混淆写清晰和写简短，更长的提示可以提供更多清晰度和上下文信息，导致更详细和相关的输出。"
      ]
    },
    {
      "cell_type": "markdown",
      "metadata": {
        "id": "kogIAwKtO2yG"
      },
      "source": [
        "**2.1.2 寻求结构化的输出**\n",
        "\n",
        "输出可以是 Json、HTML 等格式。\n",
        "\n",
        "第二个策略是要求生成一个结构化的输出，这可以使模型的输出更容易被我们解析，例如，您可以在 Python 中将其读入字典或列表中。\n",
        "\n",
        "在以下示例中，我们要求 GPT 生成三本书的标题、作者和类别，并要求 GPT 以 Json 的格式返回给我们，为便于解析，我们指定了 Json 的键。"
      ]
    },
    {
      "cell_type": "code",
      "execution_count": 25,
      "metadata": {
        "id": "sZOEUj-vO2yH",
        "outputId": "f396d362-ae54-42a3-9708-81053f51cdde",
        "colab": {
          "base_uri": "https://localhost:8080/"
        }
      },
      "outputs": [
        {
          "output_type": "stream",
          "name": "stdout",
          "text": [
            "```json\n",
            "[\n",
            "  {\n",
            "    \"book_id\": 1,\n",
            "    \"title\": \"The Whispering Sands of Al-Kharid\",\n",
            "    \"author\": \"Elias Thornfield\",\n",
            "    \"genre\": \"Fantasy\"\n",
            "  },\n",
            "  {\n",
            "    \"book_id\": 2,\n",
            "    \"title\": \"Chronicles of the Celestial Nomad\",\n",
            "    \"author\": \"Dr. Lila Voss\",\n",
            "    \"genre\": \"Science Fiction\"\n",
            "  },\n",
            "  {\n",
            "    \"book_id\": 3,\n",
            "    \"title\": \"The Silent Key\",\n",
            "    \"author\": \"Margo Blackthorn\",\n",
            "    \"genre\": \"Mystery/Thriller\"\n",
            "  }\n",
            "]\n",
            "```\n"
          ]
        }
      ],
      "source": [
        "prompt = f\"\"\"\n",
        "Generate a list of three made-up book titles along \\\n",
        "with their authors and genres.\n",
        "Provide them in JSON format with the following keys:\n",
        "book_id, title, author, genre.\n",
        "\"\"\"\n",
        "response = get_completion(prompt)\n",
        "print(response)\n"
      ]
    },
    {
      "cell_type": "code",
      "execution_count": 26,
      "metadata": {
        "id": "4MbwG5eYO2yH",
        "outputId": "0d590b3a-cda5-48da-fbe4-3662d032e7e3",
        "colab": {
          "base_uri": "https://localhost:8080/"
        }
      },
      "outputs": [
        {
          "output_type": "stream",
          "name": "stdout",
          "text": [
            "```json\n",
            "[\n",
            "  {\n",
            "    \"book_id\": 1,\n",
            "    \"title\": \"The Ashes of Stardust\",\n",
            "    \"author\": \"Aria Voss\",\n",
            "    \"genre\": \"Science Fiction\"\n",
            "  },\n",
            "  {\n",
            "    \"book_id\": 2,\n",
            "    \"title\": \"The Jade Labyrinth\",\n",
            "    \"author\": \"Haruki Mizuno\",\n",
            "    \"genre\": \"Fantasy\"\n",
            "  },\n",
            "  {\n",
            "    \"book_id\": 3,\n",
            "    \"title\": \"The Last Telephone Booth\",\n",
            "    \"author\": \"Eleanor Whitlock\",\n",
            "    \"genre\": \"Mystery\"\n",
            "  }\n",
            "]\n",
            "```\n"
          ]
        }
      ],
      "source": [
        "prompt = f\"\"\"\n",
        "请生成包括书名、作者和类别的三本虚构书籍清单，\\\n",
        "并以 JSON 格式提供，其中包含以下键:book_id、title、author、genre。\n",
        "\"\"\"\n",
        "response = get_completion(prompt)\n",
        "print(response)\n"
      ]
    },
    {
      "cell_type": "markdown",
      "metadata": {
        "id": "nb-9w_NKO2yH"
      },
      "source": []
    },
    {
      "cell_type": "markdown",
      "metadata": {
        "id": "O3Jhen8-O2yH"
      },
      "source": [
        "**2.1.3 要求模型检查是否满足条件**\n",
        "\n",
        "如果任务包含不一定能满足的假设（条件），我们可以告诉模型先检查这些假设，如果不满足，则会指出并停止执行后续的完整流程。您还可以考虑可能出现的边缘情况及模型的应对，以避免意外的结果或错误发生。\n",
        "\n",
        "在如下示例中，我们将分别给模型两段文本，分别是制作茶的步骤以及一段没有明确步骤的文本。我们将要求模型判断其是否包含一系列指令，如果包含则按照给定格式重新编写指令，不包含则回答“未提供步骤”。"
      ]
    },
    {
      "cell_type": "code",
      "execution_count": 27,
      "metadata": {
        "id": "IReGtRpyO2yI",
        "outputId": "22734d98-ac8e-4280-d53b-eea48be64510",
        "colab": {
          "base_uri": "https://localhost:8080/"
        }
      },
      "outputs": [
        {
          "output_type": "stream",
          "name": "stdout",
          "text": [
            "Completion for Text 1:\n",
            "Step 1 - Get some water boiling.  \n",
            "Step 2 - Grab a cup and put a tea bag in it while the water heats.  \n",
            "Step 3 - Pour the hot water over the tea bag once it’s ready.  \n",
            "Step 4 - Let the tea steep for a bit.  \n",
            "Step 5 - Remove the tea bag after a few minutes.  \n",
            "Step 6 - Add sugar or milk to taste (optional).\n"
          ]
        }
      ],
      "source": [
        "text_1 = f\"\"\"\n",
        "Making a cup of tea is easy! First, you need to get some \\\n",
        "water boiling. While that's happening, \\\n",
        "grab a cup and put a tea bag in it. Once the water is \\\n",
        "hot enough, just pour it over the tea bag. \\\n",
        "Let it sit for a bit so the tea can steep. After a \\\n",
        "few minutes, take out the tea bag. If you \\\n",
        "like, you can add some sugar or milk to taste. \\\n",
        "And that's it! You've got yourself a delicious \\\n",
        "cup of tea to enjoy.\n",
        "\"\"\"\n",
        "prompt = f\"\"\"\n",
        "You will be provided with text delimited by triple quotes.\n",
        "If it contains a sequence of instructions, \\\n",
        "re-write those instructions in the following format:\n",
        "\n",
        "Step 1 - ...\n",
        "Step 2 - …\n",
        "…\n",
        "Step N - …\n",
        "\n",
        "If the text does not contain a sequence of instructions, \\\n",
        "then simply write \\\"No steps provided.\\\"\n",
        "\n",
        "\\\"\\\"\\\"{text_1}\\\"\\\"\\\"\n",
        "\"\"\"\n",
        "response = get_completion(prompt)\n",
        "print(\"Completion for Text 1:\")\n",
        "print(response)"
      ]
    },
    {
      "cell_type": "code",
      "execution_count": 28,
      "metadata": {
        "id": "nq-J4sQ-O2yI",
        "outputId": "eeae09bd-2bf7-445f-df77-01ea0781834e",
        "colab": {
          "base_uri": "https://localhost:8080/"
        }
      },
      "outputs": [
        {
          "output_type": "stream",
          "name": "stdout",
          "text": [
            "Completion for Text 2:\n",
            "No steps provided.\n"
          ]
        }
      ],
      "source": [
        "text_2 = f\"\"\"\n",
        "The sun is shining brightly today, and the birds are \\\n",
        "singing. It's a beautiful day to go for a \\\n",
        "walk in the park. The flowers are blooming, and the \\\n",
        "trees are swaying gently in the breeze. People \\\n",
        "are out and about, enjoying the lovely weather. \\\n",
        "Some are having picnics, while others are playing \\\n",
        "games or simply relaxing on the grass. It's a \\\n",
        "perfect day to spend time outdoors and appreciate the \\\n",
        "beauty of nature.\n",
        "\"\"\"\n",
        "prompt = f\"\"\"You will be provided with text delimited by triple quotes.\n",
        "If it contains a sequence of instructions, \\\n",
        "re-write those instructions in the following format:\n",
        "Step 1 - ...\n",
        "Step 2 - …\n",
        "…\n",
        "Step N - …\n",
        "\n",
        "If the text does not contain a sequence of instructions, \\\n",
        "then simply write \\\"No steps provided.\\\"\n",
        "\n",
        "\\\"\\\"\\\"{text_2}\\\"\\\"\\\"\n",
        "\"\"\"\n",
        "response = get_completion(prompt)\n",
        "print(\"Completion for Text 2:\")\n",
        "print(response)"
      ]
    },
    {
      "cell_type": "code",
      "execution_count": 29,
      "metadata": {
        "id": "cgE2Rf6nO2yI",
        "outputId": "53b9f5cd-9281-4413-92b5-e72f795fab62",
        "colab": {
          "base_uri": "https://localhost:8080/"
        }
      },
      "outputs": [
        {
          "output_type": "stream",
          "name": "stdout",
          "text": [
            "Text 1 的总结:\n",
            "第一步 - 把水烧开。  \n",
            "第二步 - 准备一个杯子并放入茶包。  \n",
            "第三步 - 将烧开的水倒入装有茶包的杯子中。  \n",
            "第四步 - 等待茶叶浸泡数分钟。  \n",
            "第五步 - 取出茶包。  \n",
            "第六步 - 根据个人喜好添加糖或牛奶调味。\n"
          ]
        }
      ],
      "source": [
        "# 满足条件的输入（text中提供了步骤）\n",
        "text_1 = f\"\"\"\n",
        "泡一杯茶很容易。首先，需要把水烧开。\\\n",
        "在等待期间，拿一个杯子并把茶包放进去。\\\n",
        "一旦水足够热，就把它倒在茶包上。\\\n",
        "等待一会儿，让茶叶浸泡。几分钟后，取出茶包。\\\n",
        "如果您愿意，可以加一些糖或牛奶调味。\\\n",
        "就这样，您可以享受一杯美味的茶了。\n",
        "\"\"\"\n",
        "prompt = f\"\"\"\n",
        "您将获得由三个引号括起来的文本。\\\n",
        "如果它包含一系列的指令，则需要按照以下格式重新编写这些指令：\n",
        "\n",
        "第一步 - ...\n",
        "第二步 - …\n",
        "…\n",
        "第N步 - …\n",
        "\n",
        "如果文本中不包含一系列的指令，则直接写“未提供步骤”。\"\n",
        "\\\"\\\"\\\"{text_1}\\\"\\\"\\\"\n",
        "\"\"\"\n",
        "response = get_completion(prompt)\n",
        "print(\"Text 1 的总结:\")\n",
        "print(response)"
      ]
    },
    {
      "cell_type": "code",
      "execution_count": null,
      "metadata": {
        "id": "ZIXgM-AWO2yI",
        "outputId": "8d974f60-9b3f-4869-e2aa-8104195b5ca0"
      },
      "outputs": [
        {
          "name": "stdout",
          "output_type": "stream",
          "text": [
            "Text 2 的总结:\n",
            "未提供步骤。\n"
          ]
        }
      ],
      "source": [
        "# 不满足条件的输入（text中未提供预期指令）\n",
        "text_2 = f\"\"\"\n",
        "今天阳光明媚，鸟儿在歌唱。\\\n",
        "这是一个去公园散步的美好日子。\\\n",
        "鲜花盛开，树枝在微风中轻轻摇曳。\\\n",
        "人们外出享受着这美好的天气，有些人在野餐，有些人在玩游戏或者在草地上放松。\\\n",
        "这是一个完美的日子，可以在户外度过并欣赏大自然的美景。\n",
        "\"\"\"\n",
        "prompt = f\"\"\"\n",
        "您将获得由三个引号括起来的文本。\\\n",
        "如果它包含一系列的指令，则需要按照以下格式重新编写这些指令：\n",
        "\n",
        "第一步 - ...\n",
        "第二步 - …\n",
        "…\n",
        "第N步 - …\n",
        "\n",
        "如果文本中不包含一系列的指令，则直接写“未提供步骤”。\"\n",
        "\\\"\\\"\\\"{text_2}\\\"\\\"\\\"\n",
        "\"\"\"\n",
        "response = get_completion(prompt)\n",
        "print(\"Text 2 的总结:\")\n",
        "print(response)"
      ]
    },
    {
      "cell_type": "markdown",
      "metadata": {
        "id": "CCPtd54YO2yJ"
      },
      "source": []
    },
    {
      "cell_type": "markdown",
      "metadata": {
        "id": "pZQsPKxiO2yJ"
      },
      "source": [
        "**2.1.4 提供少量示例**（少样本提示词，Few-shot prompting）\n",
        "\n",
        "即在要求模型执行实际任务之前，提供给它少量成功执行任务的示例。\n",
        "\n",
        "例如，在以下的示例中，我们告诉模型其任务是以一致的风格回答问题，并先给它一个孩子和祖父之间的对话的例子。孩子说，“请教我何为耐心”，祖父用下述风格的隐喻来回答。由于我们已经告诉模型要以一致的语气回答，因此现在我们问“请教我何为韧性”，由于模型已经有了这个少样本示例( few-shot example )，它将以类似的语气回答下一个任务。"
      ]
    },
    {
      "cell_type": "code",
      "execution_count": 30,
      "metadata": {
        "id": "KQi7Pft9O2yJ",
        "outputId": "dae8faeb-f920-4d12-c5d2-cdc12177b918",
        "colab": {
          "base_uri": "https://localhost:8080/"
        }
      },
      "outputs": [
        {
          "output_type": "stream",
          "name": "stdout",
          "text": [
            "<grandparent>: The oak that shelters generations \\  \n",
            "once trembled in the fiercest gales; the steel \\  \n",
            "that bears the weight of bridges was forged \\  \n",
            "in the furnace’s unrelenting flame; the diamond \\  \n",
            "that dazzles the eye endured the dark’s embrace \\  \n",
            "for a thousand years.\n"
          ]
        }
      ],
      "source": [
        "prompt = f\"\"\"\n",
        "Your task is to answer in a consistent style.\n",
        "\n",
        "<child>: Teach me about patience.\n",
        "\n",
        "<grandparent>: The river that carves the deepest \\\n",
        "valley flows from a modest spring; the \\\n",
        "grandest symphony originates from a single note; \\\n",
        "the most intricate tapestry begins with a solitary thread.\n",
        "\n",
        "<child>: Teach me about resilience.\n",
        "\"\"\"\n",
        "response = get_completion(prompt)\n",
        "print(response)"
      ]
    },
    {
      "cell_type": "code",
      "execution_count": 31,
      "metadata": {
        "id": "0rMbyKRhO2yJ",
        "outputId": "ffdae166-858e-42e4-8d3a-104056882160",
        "colab": {
          "base_uri": "https://localhost:8080/"
        }
      },
      "outputs": [
        {
          "output_type": "stream",
          "name": "stdout",
          "text": [
            "<祖父母>: 孩子啊，风暴中屹立的橡树曾在无数狂风里学会扎根；竹子能弯至地面却从不折断，因其懂得随风起伏的智慧；最璀璨的钻石历经地底深处的重压方显光芒。韧性不是与风暴对抗，而是学会如何与它共舞。\n"
          ]
        }
      ],
      "source": [
        "prompt = f\"\"\"\n",
        "您的任务是以一致的风格回答问题。\n",
        "\n",
        "<孩子>: 教我耐心。\n",
        "\n",
        "<祖父母>: 挖出最深峡谷的河流源于一处不起眼的泉眼；最宏伟的交响乐从单一的音符开始；最复杂的挂毯以一根孤独的线开始编织。\n",
        "\n",
        "<孩子>: 教我韧性。\n",
        "\"\"\"\n",
        "response = get_completion(prompt)\n",
        "print(response)"
      ]
    },
    {
      "cell_type": "markdown",
      "metadata": {
        "id": "C6a7aDKPO2yJ"
      },
      "source": [
        "### 2.2 给模型时间去思考\n",
        "\n",
        "如果您发现模型推理过程过于匆忙，导致得出了错误的结论，那么您应该尝试重新构思 Prompt ，要求模型在提供最终答案之前开展**思维链**，或进行一系列相关推理（a chain or series of relevant reasoning）。换句话说，如果您给模型一个在短时间内或用少量文字无法完成的复杂任务，它的输出结果就容易出错。这种情况对人来说也是类似：如果您要求某人完成复杂的数学问题，又不给足够时间计算出答案，他们也可能会犯错误。因此，在这些情况下，您应该指示模型花更多时间思考问题，让它在任务上花费更多计算资源。"
      ]
    },
    {
      "cell_type": "markdown",
      "metadata": {
        "id": "TzB3kqDXO2yJ"
      },
      "source": [
        "**2.2.1 指定完成任务所需的步骤**\n",
        "\n",
        "接下来我们将通过给定一个复杂任务，给出完成该任务的一系列步骤，来展示这一策略的效果。"
      ]
    },
    {
      "cell_type": "markdown",
      "metadata": {
        "id": "UktVjgCEO2yJ"
      },
      "source": [
        "首先我们描述了杰克和吉尔的故事，并给出提示词执行以下操作：首先，用一句话概括三个反引号限定的文本。第二，将摘要翻译成法语。第三，在法语摘要中列出每个名称。第四，输出包含以下键的 JSON 对象：法语摘要和人名个数。要求输出以换行符分隔。"
      ]
    },
    {
      "cell_type": "code",
      "execution_count": 32,
      "metadata": {
        "id": "ZULgd30AO2yJ",
        "outputId": "cef892f6-5ddd-4fdc-de3a-9ad7eb66264f",
        "colab": {
          "base_uri": "https://localhost:8080/"
        }
      },
      "outputs": [
        {
          "output_type": "stream",
          "name": "stdout",
          "text": [
            "Completion for prompt 1:\n",
            "Siblings Jack and Jill's quest to fetch water from a hilltop well ends in a tumble down the hill, but they return home comforted and remain undeterred in their adventurous spirits.  \n",
            "\n",
            "Frère et sœur, Jack et Jill, partent chercher de l'eau d'un puits sur une colline mais tombent en chemin, rentrent chez eux réconfortés et gardent leur esprit aventureux intact.  \n",
            "\n",
            "Jack, Jill  \n",
            "\n",
            "{  \n",
            "  \"french_summary\": \"Frère et sœur, Jack et Jill, partent chercher de l'eau d'un puits sur une colline mais tombent en chemin, rentrent chez eux réconfortés et gardent leur esprit aventureux intact.\",  \n",
            "  \"num_names\": 2  \n",
            "}\n"
          ]
        }
      ],
      "source": [
        "text = f\"\"\"\n",
        "In a charming village, siblings Jack and Jill set out on \\\n",
        "a quest to fetch water from a hilltop \\\n",
        "well. As they climbed, singing joyfully, misfortune \\\n",
        "struck—Jack tripped on a stone and tumbled \\\n",
        "down the hill, with Jill following suit. \\\n",
        "Though slightly battered, the pair returned home to \\\n",
        "comforting embraces. Despite the mishap, \\\n",
        "their adventurous spirits remained undimmed, and they \\\n",
        "continued exploring with delight.\n",
        "\"\"\"\n",
        "# example 1\n",
        "prompt_1 = f\"\"\"\n",
        "Perform the following actions:\n",
        "1 - Summarize the following text delimited by triple \\\n",
        "backticks with 1 sentence.\n",
        "2 - Translate the summary into French.\n",
        "3 - List each name in the French summary.\n",
        "4 - Output a json object that contains the following \\\n",
        "keys: french_summary, num_names.\n",
        "\n",
        "Separate your answers with line breaks.\n",
        "\n",
        "Text:\n",
        "```{text}```\n",
        "\"\"\"\n",
        "response = get_completion(prompt_1)\n",
        "print(\"Completion for prompt 1:\")\n",
        "print(response)"
      ]
    },
    {
      "cell_type": "code",
      "execution_count": null,
      "metadata": {
        "id": "5Kb_LlNiO2yK",
        "outputId": "1afe7ae6-da43-4165-bbff-b4365aa04515"
      },
      "outputs": [
        {
          "name": "stdout",
          "output_type": "stream",
          "text": [
            "prompt 1:\n",
            "1-兄妹在山顶井里打水时发生意外，但仍然保持冒险精神。\n",
            "2-Dans un charmant village, les frère et sœur Jack et Jill partent chercher de l'eau dans un puits au sommet de la montagne. Malheureusement, Jack trébuche sur une pierre et tombe de la montagne, suivi de près par Jill. Bien qu'ils soient légèrement blessés, ils retournent chez eux chaleureusement. Malgré cet accident, leur esprit d'aventure ne diminue pas et ils continuent à explorer joyeusement.\n",
            "3-Jack, Jill\n",
            "4-{\n",
            "   \"French_summary\": \"Dans un charmant village, les frère et sœur Jack et Jill partent chercher de l'eau dans un puits au sommet de la montagne. Malheureusement, Jack trébuche sur une pierre et tombe de la montagne, suivi de près par Jill. Bien qu'ils soient légèrement blessés, ils retournent chez eux chaleureusement. Malgré cet accident, leur esprit d'aventure ne diminue pas et ils continuent à explorer joyeusement.\",\n",
            "   \"num_names\": 2\n",
            "}\n"
          ]
        }
      ],
      "source": [
        "text = f\"\"\"\n",
        "在一个迷人的村庄里，兄妹杰克和吉尔出发去一个山顶井里打水。\\\n",
        "他们一边唱着欢乐的歌，一边往上爬，\\\n",
        "然而不幸降临——杰克绊了一块石头，从山上滚了下来，吉尔紧随其后。\\\n",
        "虽然略有些摔伤，但他们还是回到了温馨的家中。\\\n",
        "尽管出了这样的意外，他们的冒险精神依然没有减弱，继续充满愉悦地探索。\n",
        "\"\"\"\n",
        "# example 1\n",
        "prompt_1 = f\"\"\"\n",
        "执行以下操作：\n",
        "1-用一句话概括下面用三个反引号括起来的文本。\n",
        "2-将摘要翻译成法语。\n",
        "3-在法语摘要中列出每个人名。\n",
        "4-输出一个 JSON 对象，其中包含以下键：French_summary，num_names。\n",
        "\n",
        "请用换行符分隔您的答案。\n",
        "\n",
        "Text:\n",
        "```{text}```\n",
        "\"\"\"\n",
        "response = get_completion(prompt_1)\n",
        "print(\"prompt 1:\")\n",
        "print(response)"
      ]
    },
    {
      "cell_type": "markdown",
      "metadata": {
        "id": "aKAkbep7O2yK"
      },
      "source": []
    },
    {
      "cell_type": "markdown",
      "metadata": {
        "id": "nbqBmixmO2yK"
      },
      "source": [
        "上述输出仍然存在一定问题，例如，键“姓名”会被替换为法语（译注：在英文原版中，对应指令第三步的输出为 'Noms:',为Name的法语，这种行为难以预测，并可能为导出带来困难）\n",
        "\n",
        "因此，我们将Prompt加以改进，该 Prompt 前半部分不变，同时**确切指定了输出的格式**。"
      ]
    },
    {
      "cell_type": "code",
      "execution_count": 33,
      "metadata": {
        "id": "2cNrxpnhO2yK",
        "outputId": "8287baa8-f83a-49be-9cd4-fdec1260f2d8",
        "colab": {
          "base_uri": "https://localhost:8080/"
        }
      },
      "outputs": [
        {
          "output_type": "stream",
          "name": "stdout",
          "text": [
            "\n",
            "Completion for prompt 2:\n",
            "Summary: Siblings Jack and Jill's quest to fetch water from a hilltop well ends in a tumble down the hill, but their adventurous spirits remain unshaken.  \n",
            "Translation: Dans un charmant village, les frères et sœurs Jack et Jill partent chercher de l'eau à un puits au sommet d'une colline, mais tombent en chemin, gardant malgré tout leur esprit aventureux intact.  \n",
            "Names: [\"Jack\", \"Jill\"]  \n",
            "Output JSON:  \n",
            "```json  \n",
            "{  \n",
            "  \"french_summary\": \"Dans un charmant village, les frères et sœurs Jack et Jill partent chercher de l'eau à un puits au sommet d'une colline, mais tombent en chemin, gardant malgré tout leur esprit aventureux intact.\",  \n",
            "  \"num_names\": 2  \n",
            "}  \n",
            "```\n"
          ]
        }
      ],
      "source": [
        "prompt_2 = f\"\"\"\n",
        "Your task is to perform the following actions:\n",
        "1 - Summarize the following text delimited by <> with 1 sentence.\n",
        "2 - Translate the summary into French.\n",
        "3 - List each name in the French summary.\n",
        "4 - Output a json object that contains the\n",
        "following keys: french_summary, num_names.\n",
        "\n",
        "Use the following format:\n",
        "Text: <text to summarize>\n",
        "Summary: <summary>\n",
        "Translation: <summary translation>\n",
        "Names: <list of names in French summary>\n",
        "Output JSON: <json with summary and num_names>\n",
        "\n",
        "Text: <{text}>\n",
        "\"\"\"\n",
        "response = get_completion(prompt_2)\n",
        "print(\"\\nCompletion for prompt 2:\")\n",
        "print(response)"
      ]
    },
    {
      "cell_type": "code",
      "execution_count": null,
      "metadata": {
        "id": "GaCgXWmkO2yK",
        "outputId": "a77872da-2f10-49a2-c65b-938395f6e06a"
      },
      "outputs": [
        {
          "name": "stdout",
          "output_type": "stream",
          "text": [
            "\n",
            "prompt 2:\n",
            "摘要：兄妹杰克和吉尔在迷人的村庄里冒险，不幸摔伤后回到家中，但仍然充满冒险精神。\n",
            "翻译：In a charming village, siblings Jack and Jill set out to fetch water from a mountaintop well. While climbing and singing, Jack trips on a stone and tumbles down the mountain, with Jill following closely behind. Despite some bruises, they make it back home safely. Their adventurous spirit remains undiminished as they continue to explore with joy.\n",
            "名称：Jack，Jill\n",
            "输出 JSON：{\"English_summary\": \"In a charming village, siblings Jack and Jill set out to fetch water from a mountaintop well. While climbing and singing, Jack trips on a stone and tumbles down the mountain, with Jill following closely behind. Despite some bruises, they make it back home safely. Their adventurous spirit remains undiminished as they continue to explore with joy.\", \"num_names\": 2}\n"
          ]
        }
      ],
      "source": [
        "prompt_2 = f\"\"\"\n",
        "1-用一句话概括下面用<>括起来的文本。\n",
        "2-将摘要翻译成英语。\n",
        "3-在英语摘要中列出每个名称。\n",
        "4-输出一个 JSON 对象，其中包含以下键：English_summary，num_names。\n",
        "\n",
        "请使用以下格式：\n",
        "文本：<要总结的文本>\n",
        "摘要：<摘要>\n",
        "翻译：<摘要的翻译>\n",
        "名称：<英语摘要中的名称列表>\n",
        "输出 JSON：<带有 English_summary 和 num_names 的 JSON>\n",
        "\n",
        "Text: <{text}>\n",
        "\"\"\"\n",
        "response = get_completion(prompt_2)\n",
        "print(\"\\nprompt 2:\")\n",
        "print(response)"
      ]
    },
    {
      "cell_type": "markdown",
      "metadata": {
        "id": "j5PH7HvZO2yK"
      },
      "source": [
        ""
      ]
    },
    {
      "cell_type": "markdown",
      "metadata": {
        "id": "cFSL6jRMO2yK"
      },
      "source": [
        "**2.2.2 指导模型在下结论之前找出一个自己的解法**\n",
        "\n",
        "明确地指引模型在匆匆做决策之前，要自己思考出一份解决方案。有时这样会得到更好的结果。这与之前所述思想类似，即给模型时间思考。\n",
        "\n",
        "接下来我们会给出一个问题和一份来自学生的解答，要求模型判断解答是否正确："
      ]
    },
    {
      "cell_type": "code",
      "execution_count": 34,
      "metadata": {
        "id": "5sDih5zqO2yW",
        "outputId": "8a343cb6-bdef-43ef-e8b5-71f97da714c2",
        "colab": {
          "base_uri": "https://localhost:8080/"
        }
      },
      "outputs": [
        {
          "output_type": "stream",
          "name": "stdout",
          "text": [
            "The student's solution is **incorrect**. \n",
            "\n",
            "**Error Identified:**  \n",
            "The maintenance cost's variable component was miscalculated. The problem states maintenance is \\$100k/year + \\$10/square foot, but the student used \\$100x instead of \\$10x.\n",
            "\n",
            "**Correct Calculation:**  \n",
            "1. **Land:** \\(100x\\)  \n",
            "2. **Solar Panels:** \\(250x\\)  \n",
            "3. **Maintenance:** \\(100,000 + 10x\\)  \n",
            "\n",
            "**Total Cost:**  \n",
            "\\[\n",
            "100x + 250x + 10x + 100,000 = 360x + 100,000\n",
            "\\]  \n",
            "\n",
            "**Final Answer:**  \n",
            "The total first-year cost as a function of square feet is \\( \\boxed{360x + 100,\\!000} \\).\n"
          ]
        }
      ],
      "source": [
        "prompt = f\"\"\"\n",
        "Determine if the student's solution is correct or not.\n",
        "\n",
        "Question:\n",
        "I'm building a solar power installation and I need \\\n",
        " help working out the financials.\n",
        "- Land costs $100 / square foot\n",
        "- I can buy solar panels for $250 / square foot\n",
        "- I negotiated a contract for maintenance that will cost \\\n",
        "me a flat $100k per year, and an additional $10 / square \\\n",
        "foot\n",
        "What is the total cost for the first year of operations\n",
        "as a function of the number of square feet.\n",
        "\n",
        "Student's Solution:\n",
        "Let x be the size of the installation in square feet.\n",
        "Costs:\n",
        "1. Land cost: 100x\n",
        "2. Solar panel cost: 250x\n",
        "3. Maintenance cost: 100,000 + 100x\n",
        "Total cost: 100x + 250x + 100,000 + 100x = 450x + 100,000\n",
        "\"\"\"\n",
        "response = get_completion(prompt)\n",
        "print(response)"
      ]
    },
    {
      "cell_type": "code",
      "execution_count": 35,
      "metadata": {
        "id": "344LuzdKO2yW",
        "outputId": "fc7838e8-3469-451c-f9ec-bf5749a9b423",
        "colab": {
          "base_uri": "https://localhost:8080/"
        }
      },
      "outputs": [
        {
          "output_type": "stream",
          "name": "stdout",
          "text": [
            "学生的解决方案中存在错误。错误出现在维护费用的计算部分。\n",
            "\n",
            "**逐步解释：**\n",
            "\n",
            "1. **土地费用**：正确计算为 \\(100x\\) 美元。\n",
            "2. **太阳能电池板费用**：正确计算为 \\(250x\\) 美元。\n",
            "3. **维护费用**：\n",
            "   - 固定费用：\\(100,000\\) 美元（正确）。\n",
            "   - 额外费用应为 \\(10x\\) 美元（题目中明确为每平方英尺10美元），但学生错误地计算为 \\(100x\\) 美元。\n",
            "4. **总费用计算**：\n",
            "   - 正确公式应为：\\(100x + 250x + 10x + 100,000 = 360x + 100,000\\) 美元。\n",
            "   - 学生错误地求和为 \\(450x + 100,000\\) 美元，因其将维护的额外费用多算了 \\(90x\\)。\n",
            "\n",
            "**结论**：学生的答案不正确。正确首年总费用为 **\\(360x + 100,000\\) 美元**。\n"
          ]
        }
      ],
      "source": [
        "prompt = f\"\"\"\n",
        "判断学生的解决方案是否正确。\n",
        "\n",
        "问题:\n",
        "我正在建造一个太阳能发电站，需要帮助计算财务。\n",
        "\n",
        "    土地费用为 100美元/平方英尺\n",
        "    我可以以 250美元/平方英尺的价格购买太阳能电池板\n",
        "    我已经谈判好了维护合同，每年需要支付固定的10万美元，并额外支付每平方英尺10美元\n",
        "    作为平方英尺数的函数，首年运营的总费用是多少。\n",
        "\n",
        "学生的解决方案：\n",
        "设x为发电站的大小，单位为平方英尺。\n",
        "费用：\n",
        "\n",
        "    土地费用：100x\n",
        "    太阳能电池板费用：250x\n",
        "    维护费用：100,000美元+100x\n",
        "    总费用：100x+250x+100,000美元+100x=450x+100,000美元\n",
        "\"\"\"\n",
        "response = get_completion(prompt)\n",
        "print(response)"
      ]
    },
    {
      "cell_type": "markdown",
      "metadata": {
        "id": "hRSiuN5dO2yW"
      },
      "source": []
    },
    {
      "cell_type": "markdown",
      "metadata": {
        "id": "_MsJwFgwO2yW"
      },
      "source": [
        "但是注意，学生的解决方案实际上是错误的。（*维护费用项100x应为10x，总费用450x应为360x*）\n",
        "\n",
        "我们可以通过指导模型先自行找出一个解法来解决这个问题。\n",
        "\n",
        "在接下来这个 Prompt 中，我们要求模型先自行解决这个问题，再根据自己的解法与学生的解法进行对比，从而判断学生的解法是否正确。同时，我们给定了输出的格式要求。通过拆分任务、明确步骤，让模型有更多时间思考，有时可以获得更准确的结果。在这个例子中，学生的答案是错误的，但如果我们没有先让模型自己计算，那么可能会被误导以为学生是正确的。"
      ]
    },
    {
      "cell_type": "code",
      "execution_count": 36,
      "metadata": {
        "id": "LM3lTy6yO2yW",
        "outputId": "2356bb49-759f-456b-c1e9-2e07732f019a",
        "colab": {
          "base_uri": "https://localhost:8080/"
        }
      },
      "outputs": [
        {
          "output_type": "stream",
          "name": "stdout",
          "text": [
            "```\n",
            "The problem requires calculating the total first-year cost as a function of square feet (x). \n",
            "\n",
            "1. **Land Cost**: $100 per square foot → 100x\n",
            "2. **Solar Panel Cost**: $250 per square foot → 250x\n",
            "3. **Maintenance Cost**: Flat $100,000/year + $10 per square foot → 100,000 + 10x\n",
            "\n",
            "Summing these:\n",
            "Total Cost = 100x + 250x + 100,000 + 10x = (100+250+10)x + 100,000 = 360x + 100,000\n",
            "\n",
            "The student incorrectly used 100x instead of 10x for the maintenance variable cost, leading to an overestimation.\n",
            "```\n",
            "\n",
            "Is the student's solution the same as actual solution just calculated:\n",
            "```\n",
            "no\n",
            "```\n",
            "Student grade:\n",
            "```\n",
            "incorrect\n",
            "```\n"
          ]
        }
      ],
      "source": [
        "prompt = f\"\"\"\n",
        "Your task is to determine if the student's solution \\\n",
        "is correct or not.\n",
        "To solve the problem do the following:\n",
        "- First, work out your own solution to the problem.\n",
        "- Then compare your solution to the student's solution \\\n",
        "and evaluate if the student's solution is correct or not.\n",
        "Don't decide if the student's solution is correct until\n",
        "you have done the problem yourself.\n",
        "\n",
        "Use the following format:\n",
        "Question:\n",
        "```\n",
        "question here\n",
        "```\n",
        "Student's solution:\n",
        "```\n",
        "student's solution here\n",
        "```\n",
        "Actual solution:\n",
        "```\n",
        "steps to work out the solution and your solution here\n",
        "```\n",
        "Is the student's solution the same as actual solution \\\n",
        "just calculated:\n",
        "```\n",
        "yes or no\n",
        "```\n",
        "Student grade:\n",
        "```\n",
        "correct or incorrect\n",
        "```\n",
        "\n",
        "Question:\n",
        "```\n",
        "I'm building a solar power installation and I need help \\\n",
        "working out the financials.\n",
        "- Land costs $100 / square foot\n",
        "- I can buy solar panels for $250 / square foot\n",
        "- I negotiated a contract for maintenance that will cost \\\n",
        "me a flat $100k per year, and an additional $10 / square \\\n",
        "foot\n",
        "What is the total cost for the first year of operations \\\n",
        "as a function of the number of square feet.\n",
        "```\n",
        "Student's solution:\n",
        "```\n",
        "Let x be the size of the installation in square feet.\n",
        "Costs:\n",
        "1. Land cost: 100x\n",
        "2. Solar panel cost: 250x\n",
        "3. Maintenance cost: 100,000 + 100x\n",
        "Total cost: 100x + 250x + 100,000 + 100x = 450x + 100,000\n",
        "```\n",
        "Actual solution:\n",
        "\"\"\"\n",
        "response = get_completion(prompt)\n",
        "print(response)"
      ]
    },
    {
      "cell_type": "code",
      "execution_count": null,
      "metadata": {
        "id": "5zsPDm9dO2yW",
        "outputId": "f1ab746d-7287-4683-955c-5a7a17781094"
      },
      "outputs": [
        {
          "name": "stdout",
          "output_type": "stream",
          "text": [
            "正确的解决方案和步骤：\n",
            "    1. 计算土地费用：100美元/平方英尺 * x平方英尺 = 100x美元\n",
            "    2. 计算太阳能电池板费用：250美元/平方英尺 * x平方英尺 = 250x美元\n",
            "    3. 计算维护费用：10万美元 + 10美元/平方英尺 * x平方英尺 = 10万美元 + 10x美元\n",
            "    4. 计算总费用：100x美元 + 250x美元 + 10万美元 + 10x美元 = 360x + 10万美元\n",
            "\n",
            "学生的解决方案和实际解决方案是否相同：否\n",
            "\n",
            "学生的成绩：不正确\n"
          ]
        }
      ],
      "source": [
        "prompt = f\"\"\"\n",
        "请判断学生的解决方案是否正确，请通过如下步骤解决这个问题：\n",
        "\n",
        "步骤：\n",
        "首先，自己解决问题，解决问题时列数学表达式。\n",
        "然后将您的解决方案与学生的解决方案进行比较，并评估学生的解决方案是否正确。\n",
        "在自己完成问题之前，请勿决定学生的解决方案是否正确。\n",
        "\n",
        "使用以下格式：\n",
        "\n",
        "问题：问题文本\n",
        "学生的解决方案：学生的解决方案文本\n",
        "实际解决方案和步骤：实际解决方案和步骤文本\n",
        "**学生的计算结果：学生的计算结果文本\n",
        "实际计算结果：实际计算结果文本\n",
        "学生的计算结果和实际计算结果是否相同：是或否\n",
        "学生的解决方案和实际解决方案是否相同：是或否**\n",
        "学生的成绩：正确或不正确\n",
        "\n",
        "问题：\n",
        "我正在建造一个太阳能发电站，需要帮助计算财务。\n",
        "- 土地费用为每平方英尺100美元\n",
        "- 我可以以每平方英尺250美元的价格购买太阳能电池板\n",
        "- 我已经谈判好了维护合同，每年需要支付固定的10万美元，并额外支付每平方英尺10美元\n",
        "作为平方英尺数的函数，首年运营的总费用是多少。\n",
        "\n",
        "学生的解决方案：\n",
        "\n",
        "设x为发电站的大小，单位为平方英尺。\n",
        "费用：\n",
        "1. 土地费用：100x\n",
        "2. 太阳能电池板费用：250x\n",
        "3. 维护费用：100,000+100x\n",
        "总费用：100x+250x+100,000+100x=450x+100,000\n",
        "\n",
        "实际解决方案和步骤：\n",
        "\"\"\"\n",
        "response = get_completion(prompt)\n",
        "print(response)"
      ]
    },
    {
      "cell_type": "markdown",
      "metadata": {
        "id": "vD7sImIhO2yX"
      },
      "source": []
    },
    {
      "cell_type": "markdown",
      "metadata": {
        "id": "pGmy-qeNO2yX"
      },
      "source": [
        "## 三、局限性"
      ]
    },
    {
      "cell_type": "markdown",
      "metadata": {
        "id": "_Cd_UnzCO2yX"
      },
      "source": [
        "**开发大模型相关应用时请务必铭记：**\n",
        "\n",
        "\n",
        "**虚假知识**：模型偶尔会生成一些看似真实实则编造的知识\n",
        "\n",
        "虽然模型在训练过程中接触了大量的知识，但它并没有*完全*记住所见的信息，因此它不甚清楚自己知识的边界。这意味着它可能会尝试回答主题晦涩难懂的问题，并编造听起来合理但实际上并不正确的答案。我们称这些编造的想法为幻觉（Hallucination）。\n",
        "\n",
        "如下示例展示了大模型的幻觉。我们要求告诉我们 Boie 公司生产的 *AeroGlide UltraSlim Smart Toothbrush* 产品的信息，事实上，这个公司是真实存在的，但产品是编造的，而模型一本正经地提供了它编造的知识，而且迷惑性很强。\n",
        "\n"
      ]
    },
    {
      "cell_type": "code",
      "execution_count": null,
      "metadata": {
        "id": "4SiS4t8ZO2yX",
        "outputId": "87bc0801-a001-459c-bfcf-e41ca32f8c59"
      },
      "outputs": [
        {
          "name": "stdout",
          "output_type": "stream",
          "text": [
            "The AeroGlide UltraSlim Smart Toothbrush by Boie is a high-tech toothbrush that uses advanced sonic technology to provide a deep and thorough clean. It features a slim and sleek design that makes it easy to hold and maneuver, and it comes with a range of smart features that help you optimize your brushing routine.\n",
            "\n",
            "One of the key features of the AeroGlide UltraSlim Smart Toothbrush is its advanced sonic technology, which uses high-frequency vibrations to break up plaque and bacteria on your teeth and gums. This technology is highly effective at removing even the toughest stains and buildup, leaving your teeth feeling clean and fresh.\n",
            "\n",
            "In addition to its sonic technology, the AeroGlide UltraSlim Smart Toothbrush also comes with a range of smart features that help you optimize your brushing routine. These include a built-in timer that ensures you brush for the recommended two minutes, as well as a pressure sensor that alerts you if you're brushing too hard.\n",
            "\n",
            "Overall, the AeroGlide UltraSlim Smart Toothbrush by Boie is a highly advanced and effective toothbrush that is perfect for anyone looking to take their oral hygiene to the next level. With its advanced sonic technology and smart features, it provides a deep and thorough clean that leaves your teeth feeling fresh and healthy.\n"
          ]
        }
      ],
      "source": [
        "prompt = f\"\"\"\n",
        "Tell me about AeroGlide UltraSlim Smart Toothbrush by Boie\n",
        "\"\"\"\n",
        "response = get_completion(prompt)\n",
        "print(response)"
      ]
    },
    {
      "cell_type": "code",
      "execution_count": 37,
      "metadata": {
        "id": "9oIfRj1VO2yX",
        "outputId": "888f7360-7c68-4d11-c3a3-534fa26e42ff",
        "colab": {
          "base_uri": "https://localhost:8080/"
        }
      },
      "outputs": [
        {
          "output_type": "stream",
          "name": "stdout",
          "text": [
            "根据目前的公开信息，Boie 公司并未推出名为 **AeroGlide UltraSlim Smart Toothbrush** 的产品。以下是可能相关的背景信息和建议，供您参考：\n",
            "\n",
            "---\n",
            "\n",
            "### **关于 Boie 公司**\n",
            "Boie 是一家以创新设计和可持续理念闻名的个人护理品牌，主要产品包括：\n",
            "- **环保牙刷**：可更换刷头设计，刷毛采用耐用聚合物（非尼龙），刷柄由回收材料制成。\n",
            "- **剃须刀等产品**：同样注重可重复使用性和环保材料。\n",
            "\n",
            "其牙刷产品通常以 **极简设计** 和 **轻薄刷头** 为特点，但暂未涉及“智能”（如蓝牙连接、APP 追踪）功能。\n",
            "\n",
            "---\n",
            "\n",
            "### **可能混淆的情况**\n",
            "1. **品牌混淆**：  \n",
            "   - **Oral-B** 曾推出过 **AeroGlide** 系列牙刷（非智能款），主打超薄刷头。  \n",
            "   - **飞利浦 Sonicare** 或 **Oral-B iO** 系列则包含智能牙刷产品（支持蓝牙与APP联动）。\n",
            "\n",
            "2. **产品名称误差**：  \n",
            "   Boie 的经典款牙刷名为 **Boie Curve Toothbrush**，具有超薄刷头，但无智能功能。\n",
            "\n",
            "---\n",
            "\n",
            "### **建议行动**\n",
            "1. **核实产品名称或品牌**：  \n",
            "   确认是否混淆了品牌或型号名称。您可通过 Boie 官网（[boieusa.com](https://www.boieusa.com/)）查看其最新产品线。\n",
            "\n",
            "2. **替代产品推荐**：  \n",
            "   - 若需 **环保牙刷**：Boie Curve Toothbrush 是理想选择。  \n",
            "   - 若需 **智能牙刷**：可参考飞利浦 Sonicare DiamondClean 或 Oral-B iO 系列。\n",
            "\n",
            "---\n",
            "\n",
            "如需进一步帮助，请提供更多细节（如功能描述或产品图片），我将尽力协助！ 😊\n"
          ]
        }
      ],
      "source": [
        "prompt = f\"\"\"\n",
        "告诉我 Boie 公司生产的 AeroGlide UltraSlim Smart Toothbrush 的相关信息\n",
        "\"\"\"\n",
        "response = get_completion(prompt)\n",
        "print(response)"
      ]
    },
    {
      "cell_type": "markdown",
      "metadata": {
        "id": "o0QXM2LtO2yX"
      },
      "source": []
    },
    {
      "cell_type": "markdown",
      "metadata": {
        "id": "csdd1RoNO2yX"
      },
      "source": [
        "由于很容易以假乱真，请读者根据在本系列教程中所学知识，在构建自己的应用程序时尽量避免幻觉情况。幻觉是大模型的一个已知缺陷（注：截至2023年7月），OpenAI也在努力解决该问题。\n",
        "\n",
        "在您希望模型根据文本生成回答时，另一种减少幻觉的策略是先要求模型获取来源于该文本的所有引用信息（任何相关引用，any relevant quotes），然后要求它基于所引用的信息来回答问题，这使得我们能根据答案追溯源文档，通常对减少幻觉非常有帮助。"
      ]
    },
    {
      "cell_type": "markdown",
      "metadata": {
        "id": "E4wWwcD-O2yX"
      },
      "source": [
        "**关于反斜杠使用的说明：**\n",
        "\n",
        "在本教程中，我们使用反斜杠 \\ 来使文本适应屏幕大小以提高阅读体验，而没有用换行符 \\n 。GPT-3 并不受换行符（newline characters）的影响，但在您调用其他大模型时，需额外考虑换行符是否会影响模型性能。"
      ]
    }
  ],
  "metadata": {
    "kernelspec": {
      "display_name": "Python 3",
      "name": "python3"
    },
    "language_info": {
      "codemirror_mode": {
        "name": "ipython",
        "version": 3
      },
      "file_extension": ".py",
      "mimetype": "text/x-python",
      "name": "python",
      "nbconvert_exporter": "python",
      "pygments_lexer": "ipython3",
      "version": "3.8.13"
    },
    "latex_envs": {
      "LaTeX_envs_menu_present": true,
      "autoclose": false,
      "autocomplete": true,
      "bibliofile": "biblio.bib",
      "cite_by": "apalike",
      "current_citInitial": 1,
      "eqLabelWithNumbers": true,
      "eqNumInitial": 1,
      "hotkeys": {
        "equation": "Ctrl-E",
        "itemize": "Ctrl-I"
      },
      "labels_anchors": false,
      "latex_user_defs": false,
      "report_style_numbering": false,
      "user_envs_cfg": false
    },
    "toc": {
      "base_numbering": 1,
      "nav_menu": {},
      "number_sections": true,
      "sideBar": true,
      "skip_h1_title": false,
      "title_cell": "Table of Contents",
      "title_sidebar": "Contents",
      "toc_cell": false,
      "toc_position": {},
      "toc_section_display": true,
      "toc_window_display": true
    },
    "colab": {
      "provenance": [],
      "gpuType": "T4",
      "include_colab_link": true
    },
    "accelerator": "GPU"
  },
  "nbformat": 4,
  "nbformat_minor": 0
}