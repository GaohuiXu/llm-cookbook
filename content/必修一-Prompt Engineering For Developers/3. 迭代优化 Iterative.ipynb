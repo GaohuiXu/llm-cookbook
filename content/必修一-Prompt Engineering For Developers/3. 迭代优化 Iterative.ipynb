{
  "cells": [
    {
      "cell_type": "markdown",
      "metadata": {
        "id": "view-in-github",
        "colab_type": "text"
      },
      "source": [
        "<a href=\"https://colab.research.google.com/github/GaohuiXu/llm-cookbook/blob/main/content/%E5%BF%85%E4%BF%AE%E4%B8%80-Prompt%20Engineering%20For%20Developers/3.%20%E8%BF%AD%E4%BB%A3%E4%BC%98%E5%8C%96%20Iterative.ipynb\" target=\"_parent\"><img src=\"https://colab.research.google.com/assets/colab-badge.svg\" alt=\"Open In Colab\"/></a>"
      ]
    },
    {
      "cell_type": "markdown",
      "metadata": {
        "id": "lvD909QVjBUV"
      },
      "source": [
        "# 第三章 迭代优化\n",
        "\n",
        "当使用 LLM 构建应用程序时，实践层面上很难*第一次尝试*就成功获得适合最终应用的 Prompt。但这并不重要，只要您有一个好的迭代过程来不断改进您的 Prompt，那么您就能够得到一个适合任务的 Prompt。虽然相比训练机器学习模型，在  Prompt 方面一次成功的几率可能会高一些，但正如上所说， Prompt 是否一次完善并不重要。最重要的是**层层迭代**为您的应用程序找到有效  Prompt 的过程。\n",
        "\n",
        "因此在本章中，我们将以产品说明书中生成营销文案为例，来展示一些流程框架，并提示您思考如何层层迭代地分析和完善您的 Prompt。\n",
        "\n",
        "在吴恩达（Andrew Ng，原教程作者）的机器学习课程中展示过一张图表，说明了机器学习开发的流程。通常是先有一个想法，然后再用以下流程实现：编写代码，获取数据，训练模型，获得实验结果。然后您可以查看结果，分析误差与错误，找出适用领域，甚至可以更改您对具体问题的具体思路或解决方法。此后再次更改实现，并运行另一个实验等，反复迭代，最终获得有效的机器学习模型。在编写基于 LLM 的应用程序的 Prompt 时，流程可能非常相似。您产生了关于要完成的任务的想法后，可以尝试编写第一个 Prompt ，注意要满足上一章说过的两个原则：**清晰明确，并且给系统足够的时间思考**。然后您可以运行并查看结果。如果第一次效果不好，那么迭代的过程就是找出为什么指令不够清晰或为什么没有给算法足够的时间思考，以便改进想法、改进  Prompt 等等，循环多次，直到找到适合您的应用程序的 Prompt。\n",
        "\n",
        "很难有适用于世间万物的所谓“最佳  Prompt ”，更好的方法是找到有效的迭代过程，以便您可以快速地找到一个适合您的应用程序的  Prompt 。\n"
      ]
    },
    {
      "cell_type": "markdown",
      "metadata": {
        "id": "p3ueNKsGjBUX"
      },
      "source": [
        "<div class=\"toc\">\n",
        "    <ul class=\"toc-item\">\n",
        "        <li><span><a href=\"#一环境配置\" data-toc-modified-id=\"一、环境配置\">一、环境配置</a></span></li>\n",
        "        <li>\n",
        "            <span><a href=\"#二任务从产品说明书生成一份营销产品描述\" data-toc-modified-id=\"二、任务——从产品说明书生成一份营销产品描述\">二、任务——从产品说明书生成一份营销产品描述</a></span>\n",
        "            <ul class=\"toc-item\">\n",
        "                <li><span><a href=\"#21-问题一生成文本太长\" data-toc-modified-id=\"2.1 问题一：生成文本太长\">2.1 问题一：生成文本太长</a></span></li>\n",
        "                <li><span><a href=\"#22-问题二抓错文本细节\" data-toc-modified-id=\"2.2 问题二：抓错文本细节\">2.2 问题二：抓错文本细节</a></span></li>\n",
        "                <li><span><a href=\"#23-问题三添加表格描述\" data-toc-modified-id=\"2.3 问题三：添加表格描述\">2.3 问题三：添加表格描述</a></span></li>\n",
        "            </ul>\n",
        "        </li>\n",
        "    </ul>\n",
        "</div>"
      ]
    },
    {
      "cell_type": "code",
      "source": [
        "!pip install openai==0.28"
      ],
      "metadata": {
        "id": "ZpwTeIJxkECm",
        "outputId": "6ccb4fdc-87d8-45a2-e8ee-9013ca08506f",
        "colab": {
          "base_uri": "https://localhost:8080/"
        }
      },
      "execution_count": 1,
      "outputs": [
        {
          "output_type": "stream",
          "name": "stdout",
          "text": [
            "Requirement already satisfied: openai==0.28 in /usr/local/lib/python3.11/dist-packages (0.28.0)\n",
            "Requirement already satisfied: requests>=2.20 in /usr/local/lib/python3.11/dist-packages (from openai==0.28) (2.32.3)\n",
            "Requirement already satisfied: tqdm in /usr/local/lib/python3.11/dist-packages (from openai==0.28) (4.67.1)\n",
            "Requirement already satisfied: aiohttp in /usr/local/lib/python3.11/dist-packages (from openai==0.28) (3.11.15)\n",
            "Requirement already satisfied: charset-normalizer<4,>=2 in /usr/local/lib/python3.11/dist-packages (from requests>=2.20->openai==0.28) (3.4.1)\n",
            "Requirement already satisfied: idna<4,>=2.5 in /usr/local/lib/python3.11/dist-packages (from requests>=2.20->openai==0.28) (3.10)\n",
            "Requirement already satisfied: urllib3<3,>=1.21.1 in /usr/local/lib/python3.11/dist-packages (from requests>=2.20->openai==0.28) (2.3.0)\n",
            "Requirement already satisfied: certifi>=2017.4.17 in /usr/local/lib/python3.11/dist-packages (from requests>=2.20->openai==0.28) (2025.1.31)\n",
            "Requirement already satisfied: aiohappyeyeballs>=2.3.0 in /usr/local/lib/python3.11/dist-packages (from aiohttp->openai==0.28) (2.6.1)\n",
            "Requirement already satisfied: aiosignal>=1.1.2 in /usr/local/lib/python3.11/dist-packages (from aiohttp->openai==0.28) (1.3.2)\n",
            "Requirement already satisfied: attrs>=17.3.0 in /usr/local/lib/python3.11/dist-packages (from aiohttp->openai==0.28) (25.3.0)\n",
            "Requirement already satisfied: frozenlist>=1.1.1 in /usr/local/lib/python3.11/dist-packages (from aiohttp->openai==0.28) (1.6.0)\n",
            "Requirement already satisfied: multidict<7.0,>=4.5 in /usr/local/lib/python3.11/dist-packages (from aiohttp->openai==0.28) (6.4.3)\n",
            "Requirement already satisfied: propcache>=0.2.0 in /usr/local/lib/python3.11/dist-packages (from aiohttp->openai==0.28) (0.3.1)\n",
            "Requirement already satisfied: yarl<2.0,>=1.17.0 in /usr/local/lib/python3.11/dist-packages (from aiohttp->openai==0.28) (1.20.0)\n"
          ]
        }
      ]
    },
    {
      "cell_type": "markdown",
      "metadata": {
        "id": "FxCucRmwjBUY"
      },
      "source": [
        "## 一、环境配置\n",
        "\n",
        "同上一章，我们首先需要配置使用 OpenAI API 的环境"
      ]
    },
    {
      "cell_type": "code",
      "execution_count": 2,
      "metadata": {
        "id": "jSalY7ySjBUZ"
      },
      "outputs": [],
      "source": [
        "import openai\n",
        "# 导入第三方库\n",
        "\n",
        "openai.api_key  = \"sk-de071700bc094713b4567d255658606f\"\n",
        "openai.api_base = \"https://api.deepseek.com/v1\"\n",
        "# 设置 API_KEY, 请替换成您自己的 API_KEY\n"
      ]
    },
    {
      "cell_type": "code",
      "execution_count": 3,
      "metadata": {
        "id": "Gv9CT9otjBUa"
      },
      "outputs": [],
      "source": [
        "# 一个封装 OpenAI 接口的函数，参数为 Prompt，返回对应结果\n",
        "def get_completion(prompt, model=\"deepseek-reasoner\"):\n",
        "    '''\n",
        "    prompt: 对应的提示词\n",
        "    model: 调用的模型，默认为 gpt-3.5-turbo(ChatGPT)，有内测资格的用户可以选择 gpt-4\n",
        "    '''\n",
        "    messages = [{\"role\": \"user\", \"content\": prompt}]\n",
        "    response = openai.ChatCompletion.create(\n",
        "        model=model,\n",
        "        messages=messages,\n",
        "        temperature=0, # 模型输出的温度系数，控制输出的随机程度\n",
        "    )\n",
        "    # 调用 OpenAI 的 ChatCompletion 接口\n",
        "    return response.choices[0].message[\"content\"]\n"
      ]
    },
    {
      "cell_type": "markdown",
      "metadata": {
        "id": "_BUUYNh4jBUa"
      },
      "source": [
        "## 二、任务——从产品说明书生成一份营销产品描述"
      ]
    },
    {
      "cell_type": "markdown",
      "metadata": {
        "id": "J-BQ7SjLjBUb"
      },
      "source": [
        "给定一份椅子的资料页。描述说它属于*中世纪灵感*系列，产自意大利，并介绍了材料、构造、尺寸、可选配件等参数。假设您想要使用这份说明书帮助营销团队为电商平台撰写营销描述稿："
      ]
    },
    {
      "cell_type": "code",
      "execution_count": 4,
      "metadata": {
        "id": "o8aAbrAbjBUb"
      },
      "outputs": [],
      "source": [
        "# 示例：产品说明书\n",
        "fact_sheet_chair = \"\"\"\n",
        "OVERVIEW\n",
        "- Part of a beautiful family of mid-century inspired office furniture,\n",
        "including filing cabinets, desks, bookcases, meeting tables, and more.\n",
        "- Several options of shell color and base finishes.\n",
        "- Available with plastic back and front upholstery (SWC-100)\n",
        "or full upholstery (SWC-110) in 10 fabric and 6 leather options.\n",
        "- Base finish options are: stainless steel, matte black,\n",
        "gloss white, or chrome.\n",
        "- Chair is available with or without armrests.\n",
        "- Suitable for home or business settings.\n",
        "- Qualified for contract use.\n",
        "\n",
        "CONSTRUCTION\n",
        "- 5-wheel plastic coated aluminum base.\n",
        "- Pneumatic chair adjust for easy raise/lower action.\n",
        "\n",
        "DIMENSIONS\n",
        "- WIDTH 53 CM | 20.87”\n",
        "- DEPTH 51 CM | 20.08”\n",
        "- HEIGHT 80 CM | 31.50”\n",
        "- SEAT HEIGHT 44 CM | 17.32”\n",
        "- SEAT DEPTH 41 CM | 16.14”\n",
        "\n",
        "OPTIONS\n",
        "- Soft or hard-floor caster options.\n",
        "- Two choices of seat foam densities:\n",
        "medium (1.8 lb/ft3) or high (2.8 lb/ft3)\n",
        "- Armless or 8 position PU armrests\n",
        "\n",
        "MATERIALS\n",
        "SHELL BASE GLIDER\n",
        "- Cast Aluminum with modified nylon PA6/PA66 coating.\n",
        "- Shell thickness: 10 mm.\n",
        "SEAT\n",
        "- HD36 foam\n",
        "\n",
        "COUNTRY OF ORIGIN\n",
        "- Italy\n",
        "\"\"\""
      ]
    },
    {
      "cell_type": "code",
      "execution_count": 5,
      "metadata": {
        "id": "mqrBMY0wjBUb",
        "outputId": "14e28ec8-9af8-4f8c-a4fd-fafb539ea0d4",
        "colab": {
          "base_uri": "https://localhost:8080/"
        }
      },
      "outputs": [
        {
          "output_type": "stream",
          "name": "stdout",
          "text": [
            "**Mid-Century Modern Office Chair – Elegance Meets Functionality**  \n",
            "\n",
            "Elevate your workspace with this exquisitely crafted mid-century inspired office chair, part of a sophisticated furniture collection designed to harmonize with desks, bookcases, and filing cabinets. Blending timeless aesthetics with modern comfort, this chair is perfect for both home offices and professional settings, offering versatility and durability certified for contract use.  \n",
            "\n",
            "**Customizable Design**  \n",
            "Choose from a range of shell colors and premium base finishes (stainless steel, matte black, gloss white, or chrome) to match your décor. Opt for partial upholstery (SWC-100) or full upholstery (SWC-110) in 10 luxurious fabric or 6 rich leather options. Prefer armrests? Select armless simplicity or 8-position adjustable PU armrests for tailored support.  \n",
            "\n",
            "**Engineered for Comfort & Durability**  \n",
            "- **Smooth Adjustability**: Pneumatic seat height adjustment ensures effortless transitions between sitting and standing.  \n",
            "- **Premium Comfort**: HD36 foam seat with your choice of medium (1.8 lb/ft³) or high (2.8 lb/ft³) density for all-day support.  \n",
            "- **Sturdy Construction**: A 5-wheel, plastic-coated aluminum base provides stability on any surface, paired with soft or hard-floor casters for quiet mobility.  \n",
            "\n",
            "**Thoughtful Details**  \n",
            "- **Dimensions**: Seat height 44 cm (17.32”), width 53 cm (20.87”), depth 51 cm (20.08”) – ergonomically designed for optimal posture.  \n",
            "- **Robust Materials**: 10 mm thick cast aluminum shell with durable nylon coating and a glide-resistant base for long-lasting performance.  \n",
            "\n",
            "**Crafted in Italy**  \n",
            "Impeccably assembled with precision and artistry, this chair reflects Italy’s legacy of fine craftsmanship.  \n",
            "\n",
            "**Ideal for Every Space**  \n",
            "Whether you’re furnishing a chic home office or a corporate environment, this chair combines style, comfort, and adaptability. Customize it to your needs and experience the perfect blend of form and function.  \n",
            "\n",
            "*Upgrade your workspace today – where heritage design meets modern innovation.*\n"
          ]
        }
      ],
      "source": [
        "#   Prompt ：基于说明书生成营销描述\n",
        "prompt = f\"\"\"\n",
        "Your task is to help a marketing team create a\n",
        "description for a retail website of a product based\n",
        "on a technical fact sheet.\n",
        "\n",
        "Write a product description based on the information\n",
        "provided in the technical specifications delimited by\n",
        "triple backticks.\n",
        "\n",
        "Technical specifications: ```{fact_sheet_chair}```\n",
        "\"\"\"\n",
        "response = get_completion(prompt)\n",
        "print(response)\n"
      ]
    },
    {
      "cell_type": "code",
      "execution_count": 6,
      "metadata": {
        "id": "_WMTfKD6jBUc"
      },
      "outputs": [],
      "source": [
        "# 示例：产品说明书\n",
        "fact_sheet_chair = \"\"\"\n",
        "概述\n",
        "\n",
        "    美丽的中世纪风格办公家具系列的一部分，包括文件柜、办公桌、书柜、会议桌等。\n",
        "    多种外壳颜色和底座涂层可选。\n",
        "    可选塑料前后靠背装饰（SWC-100）或10种面料和6种皮革的全面装饰（SWC-110）。\n",
        "    底座涂层选项为：不锈钢、哑光黑色、光泽白色或铬。\n",
        "    椅子可带或不带扶手。\n",
        "    适用于家庭或商业场所。\n",
        "    符合合同使用资格。\n",
        "\n",
        "结构\n",
        "\n",
        "    五个轮子的塑料涂层铝底座。\n",
        "    气动椅子调节，方便升降。\n",
        "\n",
        "尺寸\n",
        "\n",
        "    宽度53厘米|20.87英寸\n",
        "    深度51厘米|20.08英寸\n",
        "    高度80厘米|31.50英寸\n",
        "    座椅高度44厘米|17.32英寸\n",
        "    座椅深度41厘米|16.14英寸\n",
        "\n",
        "选项\n",
        "\n",
        "    软地板或硬地板滚轮选项。\n",
        "    两种座椅泡沫密度可选：中等（1.8磅/立方英尺）或高（2.8磅/立方英尺）。\n",
        "    无扶手或8个位置PU扶手。\n",
        "\n",
        "材料\n",
        "外壳底座滑动件\n",
        "\n",
        "    改性尼龙PA6/PA66涂层的铸铝。\n",
        "    外壳厚度：10毫米。\n",
        "    座椅\n",
        "    HD36泡沫\n",
        "\n",
        "原产国\n",
        "\n",
        "    意大利\n",
        "\"\"\""
      ]
    },
    {
      "cell_type": "code",
      "execution_count": 7,
      "metadata": {
        "id": "FZFAxm4GjBUc",
        "outputId": "728a43f7-9755-494b-8738-b48c6fe3e2bd",
        "colab": {
          "base_uri": "https://localhost:8080/"
        }
      },
      "outputs": [
        {
          "output_type": "stream",
          "name": "stdout",
          "text": [
            "**经典重生，优雅永不过时——SWC系列中世纪风办公椅**  \n",
            "\n",
            "在复古美与现代功能的交汇处，SWC系列办公椅以**20世纪中叶设计精髓**重新定义办公美学。作为中世纪风格家具套系的核心单品，这把椅子不仅是工具，更是空间的艺术品——无论置于居家书房、创意工作室，还是高端商务场所，它都将成为目光的焦点。  \n",
            "\n",
            "---  \n",
            "\n",
            "### 🔍 核心亮点  \n",
            "\n",
            "**1. 量身定制的美学表达**  \n",
            "- **12色外壳+4种涂层底座**：从哑光黑的深邃到铬金属的冷冽，底座与外壳色彩自由碰撞，适配任何空间调性。  \n",
            "- **双重装饰升级**：  \n",
            "  ✔️ **SWC-100** 简约款：轻量级塑料靠背装饰，线条利落。  \n",
            "  ✔️ **SWC-110** 尊享款：16种高级面料与皮革（从亲肤棉麻到意大利头层牛皮），触感与视觉的双重奢华。  \n",
            "\n",
            "**2. 工程师级别的舒适哲学**  \n",
            "- **动态气压升降系统**：一指轻触即可精准调节座椅高度，适应不同体型需求。  \n",
            "- **双密度HD36泡沫座垫**：  \n",
            "  ➤ 中等密度（1.8磅/立方英尺）：日常办公的均衡支撑。  \n",
            "  ➤ 高密度（2.8磅/立方英尺）：久坐不塌陷的终极解决方案。  \n",
            "- **8段位PU扶手**：从完全收纳到贴合肘部的黄金角度，满足专注办公或休闲后仰的多场景需求。  \n",
            "\n",
            "**3. 细节铸就品质**  \n",
            "- **五轮铝制悬浮底盘**：塑料涂层消音轮可选配软/硬地板专用款，静音滑动中尽显意大利精工——哪怕在百年老宅的木地板上，也绝不留下划痕。  \n",
            "- **10mm加厚改性尼龙外壳**：轻量化设计与军工级耐磨损性的完美平衡，承重可达300小时连续压力测试。  \n",
            "\n",
            "---  \n",
            "\n",
            "### 📐 智慧尺寸，隐形收纳  \n",
            "53cm（宽）×51cm（深）的紧凑底座，却能托起44cm符合人体工学的座高（相当于膝盖自然弯曲的黄金比例）。当它静静停驻在书桌前时，所占空间仅相当于一块中号地毯，小户型也能优雅驾驭。  \n",
            "\n",
            "---  \n",
            "\n",
            "**🇮🇹 意大利弗留利大区制造**  \n",
            "每一把SWC椅子的金属部件上都镌刻着威尼托工匠的签名钢印——这不仅是家具，更是可传承的设计遗产。  \n",
            "\n",
            "---  \n",
            "\n",
            "**🛋️ 现在行动，解锁两种特权：**  \n",
            "✅ 商用级认证：符合ASTM国际耐久性标准，酒店、共享办公空间批量采购享专属折扣。  \n",
            "✅ 十年金属结构质保：我们敢承诺，因为深知它的价值经得起时光考验。  \n",
            "\n",
            "**让SWC椅子成为您空间故事的下一篇章——在这里，历史的设计语言与未来的舒适科技悄然握手。**\n"
          ]
        }
      ],
      "source": [
        "#   Prompt ：基于说明书创建营销描述\n",
        "prompt = f\"\"\"\n",
        "您的任务是帮助营销团队基于技术说明书创建一个产品的营销描述。\n",
        "\n",
        "根据```标记的技术说明书中提供的信息，编写一个产品描述。\n",
        "\n",
        "技术说明: ```{fact_sheet_chair}```\n",
        "\"\"\"\n",
        "response = get_completion(prompt)\n",
        "print(response)\n"
      ]
    },
    {
      "cell_type": "markdown",
      "metadata": {
        "id": "hXpXvIdqjBUd"
      },
      "source": [
        "## 2.1 问题一：生成文本太长\n",
        "\n",
        "它似乎很好地完成了要求，即从技术说明书开始编写产品描述，介绍了一个精致的中世纪风格办公椅。但是当我看到这个时，我会觉得这个太长了。\n",
        "\n",
        "所以在上述过程中，我产生想法后写了一个  Prompt ，并得到了结果，但是我对它不是很满意，因为它太长了。所以我澄清我的  Prompt ，要求它限制生成文本长度，要求最多使用50个字。\n"
      ]
    },
    {
      "cell_type": "code",
      "execution_count": 10,
      "metadata": {
        "id": "1ElMLgGnjBUd",
        "outputId": "d5954208-b7cd-4a1d-ed2f-1de313d9b92b",
        "colab": {
          "base_uri": "https://localhost:8080/"
        }
      },
      "outputs": [
        {
          "output_type": "stream",
          "name": "stdout",
          "text": [
            "Elevate your workspace with this elegant medieval-inspired office chair, part of a sophisticated collection. Choose from versatile colors, stainless steel or chrome bases, and fabric/leather upholstery options. Features swivel casters, pneumatic height adjustment, and optional PU armrests. Crafted with durable nylon-coated aluminum and HD36 foam. Made in Italy. Perfect for home or commercial use.\n"
          ]
        }
      ],
      "source": [
        "# 优化后的 Prompt，要求生成描述不多于 50 词\n",
        "prompt = f\"\"\"\n",
        "Your task is to help a marketing team create a\n",
        "description for a retail website of a product based\n",
        "on a technical fact sheet.\n",
        "\n",
        "Write a product description based on the information\n",
        "provided in the technical specifications delimited by\n",
        "triple backticks.\n",
        "\n",
        "Use at most 50 words.\n",
        "\n",
        "Technical specifications: ```{fact_sheet_chair}```\n",
        "\"\"\"\n",
        "response = get_completion(prompt)\n",
        "print(response)\n"
      ]
    },
    {
      "cell_type": "markdown",
      "metadata": {
        "id": "yxhbU7CsjBUd"
      },
      "source": [
        "提取回答并根据空格拆分，答案为54个字，较好地完成了设计要求。"
      ]
    },
    {
      "cell_type": "code",
      "execution_count": null,
      "metadata": {
        "id": "E5SMQijwjBUe",
        "outputId": "ef0e7eb4-e75d-41c0-9895-a00728856cc4"
      },
      "outputs": [
        {
          "name": "stdout",
          "output_type": "stream",
          "text": [
            "54\n"
          ]
        }
      ],
      "source": [
        "lst = response.split()\n",
        "print(len(lst))"
      ]
    },
    {
      "cell_type": "code",
      "execution_count": 15,
      "metadata": {
        "id": "uITILmAOjBUe",
        "outputId": "e9703feb-cc1f-4365-fb93-8cc791fba206",
        "colab": {
          "base_uri": "https://localhost:8080/"
        }
      },
      "outputs": [
        {
          "output_type": "stream",
          "name": "stdout",
          "text": [
            "中世纪风格办公椅，可选多色外壳/底座涂层，皮革或织物饰面。五轮气动升降设计，适配软硬地面。高密度泡沫座垫，8向扶手调节，意大利制造。（50字）\n"
          ]
        }
      ],
      "source": [
        "# 优化后的 Prompt，要求生成描述不多于 50 词\n",
        "prompt = f\"\"\"\n",
        "您的任务是帮助营销团队基于技术说明书创建一个产品的零售网站描述。\n",
        "\n",
        "根据```标记的技术说明书中提供的信息，编写一个产品描述。\n",
        "\n",
        "使用最多50个汉字。\n",
        "\n",
        "技术规格：```{fact_sheet_chair}```\n",
        "\"\"\"\n",
        "response = get_completion(prompt)\n",
        "print(response)\n"
      ]
    },
    {
      "cell_type": "code",
      "execution_count": 16,
      "metadata": {
        "id": "aP-JuxxmjBUf",
        "outputId": "ad786097-5461-4bc1-940e-98cf14a65014",
        "colab": {
          "base_uri": "https://localhost:8080/"
        }
      },
      "outputs": [
        {
          "output_type": "execute_result",
          "data": {
            "text/plain": [
              "71"
            ]
          },
          "metadata": {},
          "execution_count": 16
        }
      ],
      "source": [
        "# 由于中文需要分词，此处直接计算整体长度\n",
        "len(response)"
      ]
    },
    {
      "cell_type": "markdown",
      "metadata": {
        "id": "iqnck5E-jBUf"
      },
      "source": []
    },
    {
      "cell_type": "markdown",
      "metadata": {
        "id": "Gv4W9LtgjBUf"
      },
      "source": [
        "LLM在能堪堪胜任严格的字数限制，但实现得并不精确。此例中，英文输出要求控制在50个词，但有时会输出60或65个单词的内容，但这也还算合理。原因是 LLM 使用分词器（tokenizer）解释文本，但它们往往在计算字符方面表现一般般。有很多不同的方法来尝试控制您得到的输出的长度（如若干句话/词/个汉字/个字母 (characters) 等）。"
      ]
    },
    {
      "cell_type": "markdown",
      "metadata": {
        "id": "wzAD8WD4jBUf"
      },
      "source": [
        "## 2.2 问题二：抓错文本细节\n",
        "\n",
        "我们继续完善这段推广词，会发现的第二个问题是，这个网站并不是直接向消费者销售，它实际上面向的是家具零售商，他们会更关心椅子的技术细节和材料。在这种情况下，您可以继续修改这个  Prompt ，让它更精确地描述椅子的技术细节。\n",
        "\n",
        "解决方法：要求它专注于与目标受众相关的方面。"
      ]
    },
    {
      "cell_type": "code",
      "execution_count": null,
      "metadata": {
        "id": "7uiRxEk-jBUf",
        "outputId": "1c392b44-89a0-44e0-d521-3e8344c0577c"
      },
      "outputs": [
        {
          "name": "stdout",
          "output_type": "stream",
          "text": [
            "Introducing our beautiful medieval-style office furniture collection, including file cabinets, desks, bookcases, and conference tables. Available in multiple shell colors and base coatings, with optional plastic or fabric/leather upholstery. Features a plastic-coated aluminum base with five wheels and pneumatic chair adjustment. Suitable for home or commercial use and made with high-quality materials, including cast aluminum with a modified nylon coating and HD36 foam. Made in Italy.\n"
          ]
        }
      ],
      "source": [
        "# 优化后的 Prompt，说明面向对象，应具有什么性质且侧重于什么方面\n",
        "prompt = f\"\"\"\n",
        "Your task is to help a marketing team create a\n",
        "description for a retail website of a product based\n",
        "on a technical fact sheet.\n",
        "\n",
        "Write a product description based on the information\n",
        "provided in the technical specifications delimited by\n",
        "triple backticks.\n",
        "\n",
        "The description is intended for furniture retailers,\n",
        "so should be technical in nature and focus on the\n",
        "materials the product is constructed from.\n",
        "\n",
        "Use at most 50 words.\n",
        "\n",
        "Technical specifications: ```{fact_sheet_chair}```\n",
        "\"\"\"\n",
        "response = get_completion(prompt)\n",
        "print(response)"
      ]
    },
    {
      "cell_type": "code",
      "execution_count": 19,
      "metadata": {
        "id": "Fw00scKIjBUg",
        "outputId": "1b396c93-7270-4bf1-9959-81ed3cb42b72",
        "colab": {
          "base_uri": "https://localhost:8080/"
        }
      },
      "outputs": [
        {
          "output_type": "stream",
          "name": "stdout",
          "text": [
            "中世纪风格办公椅，外壳采用改性尼龙PA6/PA66涂层铸铝（10mm厚），五轮塑料覆铝底座可选不锈钢/哑光黑/亮白/铬涂层。座椅配备HD36泡沫（1.8/2.8磅密度可选），支持气动升降。提供PU八向扶手、尼龙/全包饰面（SWC-100塑料或SWC-110十布六皮），软硬地板滚轮配置。意大利制造，符合商用合约标准。\n"
          ]
        }
      ],
      "source": [
        "# 优化后的 Prompt，说明面向对象，应具有什么性质且侧重于什么方面\n",
        "prompt = f\"\"\"\n",
        "您的任务是帮助营销团队基于技术说明书创建一个产品的零售网站描述。\n",
        "\n",
        "根据```标记的技术说明书中提供的信息，编写一个产品描述。\n",
        "\n",
        "该描述面向家具零售商，因此应具有技术性质，并侧重于产品的材料构造。\n",
        "\n",
        "注意，具体的材料必须要告知零售商。\n",
        "\n",
        "使用最多100个汉字。\n",
        "\n",
        "技术规格： ```{fact_sheet_chair}```\n",
        "\"\"\"\n",
        "response = get_completion(prompt)\n",
        "print(response)"
      ]
    },
    {
      "cell_type": "markdown",
      "metadata": {
        "id": "ao7xG8jzjBUg"
      },
      "source": []
    },
    {
      "cell_type": "markdown",
      "metadata": {
        "id": "TqH3CsbFjBUg"
      },
      "source": [
        "可见，通过修改  Prompt ，模型的关注点倾向了具体特征与技术细节。\n",
        "\n",
        "我可能进一步想要在描述的结尾展示出产品ID。因此，我可以进一步改进这个  Prompt ，要求在描述的结尾，展示出说明书中的7位产品ID。"
      ]
    },
    {
      "cell_type": "code",
      "execution_count": null,
      "metadata": {
        "id": "DBWCuHRtjBUg",
        "outputId": "b274303f-2853-458a-f93b-b2210f11de20"
      },
      "outputs": [
        {
          "name": "stdout",
          "output_type": "stream",
          "text": [
            "Introducing our beautiful medieval-style office furniture collection, featuring file cabinets, desks, bookshelves, and conference tables. Available in multiple shell colors and base coatings, with optional plastic or fabric/leather decorations. The chair comes with or without armrests and has a plastic-coated aluminum base with five wheels and pneumatic height adjustment. Suitable for home or commercial use. Made in Italy.\n",
            "\n",
            "Product IDs: SWC-100, SWC-110\n"
          ]
        }
      ],
      "source": [
        "# 更进一步，要求在描述末尾包含 7个字符的产品ID\n",
        "prompt = f\"\"\"\n",
        "Your task is to help a marketing team create a\n",
        "description for a retail website of a product based\n",
        "on a technical fact sheet.\n",
        "\n",
        "Write a product description based on the information\n",
        "provided in the technical specifications delimited by\n",
        "triple backticks.\n",
        "\n",
        "The description is intended for furniture retailers,\n",
        "so should be technical in nature and focus on the\n",
        "materials the product is constructed from.\n",
        "\n",
        "At the end of the description, include every 7-character\n",
        "Product ID in the technical specification.\n",
        "\n",
        "Use at most 50 words.\n",
        "\n",
        "Technical specifications: ```{fact_sheet_chair}```\n",
        "\"\"\"\n",
        "response = get_completion(prompt)\n",
        "print(response)"
      ]
    },
    {
      "cell_type": "code",
      "execution_count": 20,
      "metadata": {
        "id": "X-hYYGEtjBUg",
        "outputId": "fc29a0bd-d9e3-4734-a5c5-f3f5bc0b76f7",
        "colab": {
          "base_uri": "https://localhost:8080/"
        }
      },
      "outputs": [
        {
          "output_type": "stream",
          "name": "stdout",
          "text": [
            "中世纪风格办公椅，铸铝底座配改性尼龙PA6/PA66涂层（10mm厚），五轮气动升降结构。HD36泡沫座椅可选两种密度，装饰含SWC-100（塑料靠背）或SWC-110（全饰面料/皮革）。底座涂层：不锈钢/哑光黑/光泽白/铬。意大利制造。产品ID: SWC-100, SWC-110.  \n",
            "\n",
            "（单词数：50）\n"
          ]
        }
      ],
      "source": [
        "# 更进一步\n",
        "prompt = f\"\"\"\n",
        "您的任务是帮助营销团队基于技术说明书创建一个产品的零售网站描述。\n",
        "\n",
        "根据```标记的技术说明书中提供的信息，编写一个产品描述。\n",
        "\n",
        "该描述面向家具零售商，因此应具有技术性质，并侧重于产品的材料构造。\n",
        "\n",
        "在描述末尾，包括技术规格中每个7个字符的产品ID。\n",
        "\n",
        "使用最多50个单词。\n",
        "\n",
        "技术规格： ```{fact_sheet_chair}```\n",
        "\"\"\"\n",
        "response = get_completion(prompt)\n",
        "print(response)"
      ]
    },
    {
      "cell_type": "markdown",
      "metadata": {
        "id": "AN7VCXuPjBUh"
      },
      "source": []
    },
    {
      "cell_type": "markdown",
      "metadata": {
        "id": "TZoGM0ktjBUh"
      },
      "source": [
        "以上是许多开发人员通常会经历的  Prompt 开发的迭代过程简短示例。我的建议是，像上一章中所演示的那样，Prompt 应该保持清晰和明确，并在必要时给模型一些思考时间。在这些要求的基础上，常见流程是首先尝试编写一版 Prompt ，看看会发生什么，然后继续迭代完善 Prompt，以逐渐接近所需的结果。许多成功的 Prompt 都是通过这种迭代过程得出的。我将向您展示一个更复杂的 Prompt 示例，可能会让您对 ChatGPT 的能力有更深入的了解。"
      ]
    },
    {
      "cell_type": "markdown",
      "metadata": {
        "id": "6jp2I3THjBUh"
      },
      "source": [
        "## 2.3 问题三：添加表格描述\n",
        "继续添加指引，要求提取产品尺寸信息并组织成表格，并指定表格的列、表名和格式；再将所有内容格式化为可以在网页使用的 HTML。"
      ]
    },
    {
      "cell_type": "code",
      "execution_count": null,
      "metadata": {
        "id": "ZeCIXok0jBUh",
        "outputId": "930449cd-036b-4bc0-e74b-c11c39894881"
      },
      "outputs": [
        {
          "name": "stdout",
          "output_type": "stream",
          "text": [
            "<div>\n",
            "  <p>Introducing our beautiful collection of medieval-style office furniture, including file cabinets, desks, bookcases, and conference tables. Choose from a variety of shell colors and base coatings. You can opt for plastic front and backrest decoration (SWC-100) or full decoration with 10 fabrics and 6 leathers (SWC-110). Base coating options include stainless steel, matte black, glossy white, or chrome. The chair is available with or without armrests and is suitable for both home and commercial settings. It is contract eligible.</p>\n",
            "  <p>The structure features a plastic-coated aluminum base with five wheels. The chair is pneumatically adjustable for easy height adjustment.</p>\n",
            "  <p>Product IDs: SWC-100, SWC-110</p>\n",
            "  <table>\n",
            "    <caption>Product Dimensions</caption>\n",
            "    <tr>\n",
            "      <td>Width</td>\n",
            "      <td>20.87 inches</td>\n",
            "    </tr>\n",
            "    <tr>\n",
            "      <td>Depth</td>\n",
            "      <td>20.08 inches</td>\n",
            "    </tr>\n",
            "    <tr>\n",
            "      <td>Height</td>\n",
            "      <td>31.50 inches</td>\n",
            "    </tr>\n",
            "    <tr>\n",
            "      <td>Seat Height</td>\n",
            "      <td>17.32 inches</td>\n",
            "    </tr>\n",
            "    <tr>\n",
            "      <td>Seat Depth</td>\n",
            "      <td>16.14 inches</td>\n",
            "    </tr>\n",
            "  </table>\n",
            "  <p>Options include soft or hard floor casters. You can choose from two seat foam densities: medium (1.8 pounds/cubic foot) or high (2.8 pounds/cubic foot). The chair is available with or without 8-position PU armrests.</p>\n",
            "  <p>Materials:</p>\n",
            "  <ul>\n",
            "    <li>Shell, base, and sliding parts: cast aluminum coated with modified nylon PA6/PA66. Shell thickness: 10mm.</li>\n",
            "    <li>Seat: HD36 foam</li>\n",
            "  </ul>\n",
            "  <p>Made in Italy.</p>\n",
            "</div>\n"
          ]
        }
      ],
      "source": [
        "# 要求它抽取信息并组织成表格，并指定表格的列、表名和格式\n",
        "prompt = f\"\"\"\n",
        "Your task is to help a marketing team create a\n",
        "description for a retail website of a product based\n",
        "on a technical fact sheet.\n",
        "\n",
        "Write a product description based on the information\n",
        "provided in the technical specifications delimited by\n",
        "triple backticks.\n",
        "\n",
        "The description is intended for furniture retailers,\n",
        "so should be technical in nature and focus on the\n",
        "materials the product is constructed from.\n",
        "\n",
        "At the end of the description, include every 7-character\n",
        "Product ID in the technical specification.\n",
        "\n",
        "After the description, include a table that gives the\n",
        "product's dimensions. The table should have two columns.\n",
        "In the first column include the name of the dimension.\n",
        "In the second column include the measurements in inches only.\n",
        "\n",
        "Give the table the title 'Product Dimensions'.\n",
        "\n",
        "Format everything as HTML that can be used in a website.\n",
        "Place the description in a <div> element.\n",
        "\n",
        "Technical specifications: ```{fact_sheet_chair}```\n",
        "\"\"\"\n",
        "\n",
        "response = get_completion(prompt)\n",
        "print(response)"
      ]
    },
    {
      "cell_type": "code",
      "execution_count": null,
      "metadata": {
        "id": "nyW7eousjBUh",
        "outputId": "d8b372e2-e0c4-4249-a280-cb9c57be152a"
      },
      "outputs": [
        {
          "data": {
            "text/html": [
              "<div>\n",
              "  <p>Introducing our beautiful collection of medieval-style office furniture, including file cabinets, desks, bookcases, and conference tables. Choose from a variety of shell colors and base coatings. You can opt for plastic front and backrest decoration (SWC-100) or full decoration with 10 fabrics and 6 leathers (SWC-110). Base coating options include stainless steel, matte black, glossy white, or chrome. The chair is available with or without armrests and is suitable for both home and commercial settings. It is contract eligible.</p>\n",
              "  <p>The structure features a plastic-coated aluminum base with five wheels. The chair is pneumatically adjustable for easy height adjustment.</p>\n",
              "  <p>Product IDs: SWC-100, SWC-110</p>\n",
              "  <table>\n",
              "    <caption>Product Dimensions</caption>\n",
              "    <tr>\n",
              "      <td>Width</td>\n",
              "      <td>20.87 inches</td>\n",
              "    </tr>\n",
              "    <tr>\n",
              "      <td>Depth</td>\n",
              "      <td>20.08 inches</td>\n",
              "    </tr>\n",
              "    <tr>\n",
              "      <td>Height</td>\n",
              "      <td>31.50 inches</td>\n",
              "    </tr>\n",
              "    <tr>\n",
              "      <td>Seat Height</td>\n",
              "      <td>17.32 inches</td>\n",
              "    </tr>\n",
              "    <tr>\n",
              "      <td>Seat Depth</td>\n",
              "      <td>16.14 inches</td>\n",
              "    </tr>\n",
              "  </table>\n",
              "  <p>Options include soft or hard floor casters. You can choose from two seat foam densities: medium (1.8 pounds/cubic foot) or high (2.8 pounds/cubic foot). The chair is available with or without 8-position PU armrests.</p>\n",
              "  <p>Materials:</p>\n",
              "  <ul>\n",
              "    <li>Shell, base, and sliding parts: cast aluminum coated with modified nylon PA6/PA66. Shell thickness: 10mm.</li>\n",
              "    <li>Seat: HD36 foam</li>\n",
              "  </ul>\n",
              "  <p>Made in Italy.</p>\n",
              "</div>"
            ],
            "text/plain": [
              "<IPython.core.display.HTML object>"
            ]
          },
          "metadata": {},
          "output_type": "display_data"
        }
      ],
      "source": [
        "# 表格是以 HTML 格式呈现的，加载出来\n",
        "from IPython.display import display, HTML\n",
        "\n",
        "display(HTML(response))"
      ]
    },
    {
      "cell_type": "code",
      "execution_count": 21,
      "metadata": {
        "id": "xTNWaCZijBUi",
        "outputId": "0d2fc0ba-4f6a-4d57-d170-2a71b03e4480",
        "colab": {
          "base_uri": "https://localhost:8080/"
        }
      },
      "outputs": [
        {
          "output_type": "stream",
          "name": "stdout",
          "text": [
            "<div>\n",
            "  <h2>中世纪风格办公椅 - 专业系列</h2>\n",
            "  <p>这款专业级办公椅是我们中世纪风格办公家具系列的核心产品，专为商业和高端住宅环境设计。采用模块化结构系统，提供高度定制化配置选项。</p>\n",
            "\n",
            "  <h3>核心结构与材料</h3>\n",
            "  <p><strong>底座系统：</strong>五爪式重力铸造铝基座，表面采用改性尼龙PA6/PA66复合涂层工艺。配备工业级气动升降柱，支持250次/日升降循环。可选配软/硬地板专用双轴承聚氨酯滚轮系统。</p>\n",
            "  \n",
            "  <p><strong>壳体结构：</strong>10mm厚度强化壳体采用高压注射成型工艺，可选：\n",
            "  <ul>\n",
            "    <li>SWC-100型：前后塑料装饰嵌件</li>\n",
            "    <li>SWC-110型：全包覆式装饰（10种纺织面料/6种全粒面皮革选项）</li>\n",
            "  </ul></p>\n",
            "\n",
            "  <p><strong>座椅系统：</strong>高密度HD36冷固化泡沫芯材，可选1.8lb/ft³（中等密度）或2.8lb/ft³（高密度）两种配方。配备8向可调PU扶手系统（可选无扶手配置）。</p>\n",
            "\n",
            "  <h3>技术规格</h3>\n",
            "  <p>底座涂层选项：不锈钢/哑光黑/高光白/镀铬<br>\n",
            "  符合ANSI/BIFMA商业等级标准<br>\n",
            "  原产地：意大利</p>\n",
            "\n",
            "  <p>产品ID：SWC-100 | SWC-110</p>\n",
            "</div>\n",
            "\n",
            "<table class=\"product-dimensions\">\n",
            "  <caption>产品尺寸</caption>\n",
            "  <tr>\n",
            "    <th>尺寸名称</th>\n",
            "    <th>英寸</th>\n",
            "  </tr>\n",
            "  <tr>\n",
            "    <td>宽度</td>\n",
            "    <td>20.87</td>\n",
            "  </tr>\n",
            "  <tr>\n",
            "    <td>深度</td>\n",
            "    <td>20.08</td>\n",
            "  </tr>\n",
            "  <tr>\n",
            "    <td>高度</td>\n",
            "    <td>31.50</td>\n",
            "  </tr>\n",
            "  <tr>\n",
            "    <td>座椅高度</td>\n",
            "    <td>17.32</td>\n",
            "  </tr>\n",
            "  <tr>\n",
            "    <td>座椅深度</td>\n",
            "    <td>16.14</td>\n",
            "  </tr>\n",
            "</table>\n"
          ]
        }
      ],
      "source": [
        "# 要求它抽取信息并组织成表格，并指定表格的列、表名和格式\n",
        "prompt = f\"\"\"\n",
        "您的任务是帮助营销团队基于技术说明书创建一个产品的零售网站描述。\n",
        "\n",
        "根据```标记的技术说明书中提供的信息，编写一个产品描述。\n",
        "\n",
        "该描述面向家具零售商，因此应具有技术性质，并侧重于产品的材料构造。\n",
        "\n",
        "在描述末尾，包括技术规格中每个7个字符的产品ID。\n",
        "\n",
        "在描述之后，包括一个表格，提供产品的尺寸。表格应该有两列。第一列包括尺寸的名称。第二列只包括英寸的测量值。\n",
        "\n",
        "给表格命名为“产品尺寸”。\n",
        "\n",
        "将所有内容格式化为可用于网站的HTML格式。将描述放在<div>元素中。\n",
        "\n",
        "技术规格：```{fact_sheet_chair}```\n",
        "\"\"\"\n",
        "\n",
        "response = get_completion(prompt)\n",
        "print(response)"
      ]
    },
    {
      "cell_type": "code",
      "execution_count": 22,
      "metadata": {
        "id": "wDiQEF9BjBUi",
        "outputId": "5e814f5c-b36e-442f-e571-c4a82c778081",
        "colab": {
          "base_uri": "https://localhost:8080/",
          "height": 555
        }
      },
      "outputs": [
        {
          "output_type": "display_data",
          "data": {
            "text/plain": [
              "<IPython.core.display.HTML object>"
            ],
            "text/html": [
              "<div>\n",
              "  <h2>中世纪风格办公椅 - 专业系列</h2>\n",
              "  <p>这款专业级办公椅是我们中世纪风格办公家具系列的核心产品，专为商业和高端住宅环境设计。采用模块化结构系统，提供高度定制化配置选项。</p>\n",
              "\n",
              "  <h3>核心结构与材料</h3>\n",
              "  <p><strong>底座系统：</strong>五爪式重力铸造铝基座，表面采用改性尼龙PA6/PA66复合涂层工艺。配备工业级气动升降柱，支持250次/日升降循环。可选配软/硬地板专用双轴承聚氨酯滚轮系统。</p>\n",
              "  \n",
              "  <p><strong>壳体结构：</strong>10mm厚度强化壳体采用高压注射成型工艺，可选：\n",
              "  <ul>\n",
              "    <li>SWC-100型：前后塑料装饰嵌件</li>\n",
              "    <li>SWC-110型：全包覆式装饰（10种纺织面料/6种全粒面皮革选项）</li>\n",
              "  </ul></p>\n",
              "\n",
              "  <p><strong>座椅系统：</strong>高密度HD36冷固化泡沫芯材，可选1.8lb/ft³（中等密度）或2.8lb/ft³（高密度）两种配方。配备8向可调PU扶手系统（可选无扶手配置）。</p>\n",
              "\n",
              "  <h3>技术规格</h3>\n",
              "  <p>底座涂层选项：不锈钢/哑光黑/高光白/镀铬<br>\n",
              "  符合ANSI/BIFMA商业等级标准<br>\n",
              "  原产地：意大利</p>\n",
              "\n",
              "  <p>产品ID：SWC-100 | SWC-110</p>\n",
              "</div>\n",
              "\n",
              "<table class=\"product-dimensions\">\n",
              "  <caption>产品尺寸</caption>\n",
              "  <tr>\n",
              "    <th>尺寸名称</th>\n",
              "    <th>英寸</th>\n",
              "  </tr>\n",
              "  <tr>\n",
              "    <td>宽度</td>\n",
              "    <td>20.87</td>\n",
              "  </tr>\n",
              "  <tr>\n",
              "    <td>深度</td>\n",
              "    <td>20.08</td>\n",
              "  </tr>\n",
              "  <tr>\n",
              "    <td>高度</td>\n",
              "    <td>31.50</td>\n",
              "  </tr>\n",
              "  <tr>\n",
              "    <td>座椅高度</td>\n",
              "    <td>17.32</td>\n",
              "  </tr>\n",
              "  <tr>\n",
              "    <td>座椅深度</td>\n",
              "    <td>16.14</td>\n",
              "  </tr>\n",
              "</table>"
            ]
          },
          "metadata": {}
        }
      ],
      "source": [
        "# 表格是以 HTML 格式呈现的，加载出来\n",
        "from IPython.display import display, HTML\n",
        "\n",
        "display(HTML(response))"
      ]
    },
    {
      "cell_type": "markdown",
      "metadata": {
        "id": "JeDzrKNvjBUj"
      },
      "source": []
    },
    {
      "cell_type": "markdown",
      "metadata": {
        "id": "mbfKLXISjBUj"
      },
      "source": [
        "本章的主要内容是 LLM 在开发应用程序中的迭代式  Prompt 开发过程。开发者需要先尝试编写  Prompt ，然后通过迭代逐步完善它，直至得到需要的结果。作为一名高效的提示词工程师（Prompt Engineer），关键在于掌握有效的开发Prompt的过程，而不是去寻求得到“完美的”Prompt。对于一些更复杂的应用程序，可以对多个样本（如数百张说明书）进行  Prompt 的迭代开发，并在样本集上进行评估。\n",
        "\n",
        "最后，在更成熟的应用程序中，可以观察多个Prompt在多个样本集上的表现，测试平均或最差性能。但通常，**仅当**应用较成型之后，才推荐您通过这种评估方式，来精益求精。\n",
        "\n",
        "请使用 Jupyter Notebook，动手实践本节给出的示例，并尝试不同的变化，查看结果。"
      ]
    }
  ],
  "metadata": {
    "kernelspec": {
      "display_name": "Python 3",
      "name": "python3"
    },
    "language_info": {
      "codemirror_mode": {
        "name": "ipython",
        "version": 3
      },
      "file_extension": ".py",
      "mimetype": "text/x-python",
      "name": "python",
      "nbconvert_exporter": "python",
      "pygments_lexer": "ipython3",
      "version": "3.8.13"
    },
    "latex_envs": {
      "LaTeX_envs_menu_present": true,
      "autoclose": false,
      "autocomplete": true,
      "bibliofile": "biblio.bib",
      "cite_by": "apalike",
      "current_citInitial": 1,
      "eqLabelWithNumbers": true,
      "eqNumInitial": 1,
      "hotkeys": {
        "equation": "Ctrl-E",
        "itemize": "Ctrl-I"
      },
      "labels_anchors": false,
      "latex_user_defs": false,
      "report_style_numbering": false,
      "user_envs_cfg": false
    },
    "toc": {
      "base_numbering": 1,
      "nav_menu": {},
      "number_sections": true,
      "sideBar": true,
      "skip_h1_title": false,
      "title_cell": "Table of Contents",
      "title_sidebar": "Contents",
      "toc_cell": false,
      "toc_position": {},
      "toc_section_display": true,
      "toc_window_display": true
    },
    "colab": {
      "provenance": [],
      "machine_shape": "hm",
      "include_colab_link": true
    }
  },
  "nbformat": 4,
  "nbformat_minor": 0
}